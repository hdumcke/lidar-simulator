{
 "cells": [
  {
   "cell_type": "markdown",
   "id": "ccc5f59c-e773-4ee7-a388-199773aadbd6",
   "metadata": {},
   "source": [
    "# Objective\n",
    "\n",
    "I was looking for a simulation environment to generate Lidar output to test different navigation and localization algorithm. Gazebo does not work for my purposes as it does not run on a Mac and I was not able to find a suitable replacement that meets m needs.\n",
    "\n",
    "The original idea was to use a bitmap image, convert this into a point cloud and transform the cloud map to a polar coordinate system to generate a Lidar scan.\n",
    "\n",
    "Turns out that there are always corner cases where a ray through the point cloud that represents a wall will not hit any of the points, the lases \"sees through the wall\"\n",
    "\n",
    "To be able to do the calculation required for a simulated lases scan we need a line to represent the wall. A 3D mesh is a collection of triangles and there are many software tools available to generate such a 3d mesh, we will therefore use the stl file format as input.\n",
    "\n",
    "For now we restrict our studies to two dimensional lidar scans. When dealing with a 3D STL file we will filter all the faces on the ground to have a 2D representation.\n",
    "\n",
    "It is also straight forward to read a file with a bitmap image like pgm and convert each pixel to two triangles but this will lead to an unnecessary mount of trianles, we will only implement the import of pgm files when we have a specific need for it.\n",
    "\n",
    "An other input file is using ASCII art as this is used to stare maze layouts for different micromouse competition. We will develop a converted for this file format.\n",
    "\n",
    "As generator for STL files we will use <a href=\"https://build123d.readthedocs.io/en/latest/\" target=\"_blank\">Build123d</a> To run the jupyter notebooks that uses Build123d you need an environment with Build123d installed and that will require the use of conda. However to use STL files we can work with an environment where all dependencies can be installed with pip."
   ]
  }
 ],
 "metadata": {
  "kernelspec": {
   "display_name": "Python 3 (ipykernel)",
   "language": "python",
   "name": "python3"
  },
  "language_info": {
   "codemirror_mode": {
    "name": "ipython",
    "version": 3
   },
   "file_extension": ".py",
   "mimetype": "text/x-python",
   "name": "python",
   "nbconvert_exporter": "python",
   "pygments_lexer": "ipython3",
   "version": "3.11.3"
  }
 },
 "nbformat": 4,
 "nbformat_minor": 5
}
