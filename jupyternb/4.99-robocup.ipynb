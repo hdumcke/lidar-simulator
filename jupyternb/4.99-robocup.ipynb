{
 "cells": [
  {
   "cell_type": "markdown",
   "id": "ecc8b0e3-e965-4e19-a3c2-d3d919da0434",
   "metadata": {},
   "source": [
    "# Navigate the Coupe de France de robotique"
   ]
  },
  {
   "cell_type": "code",
   "execution_count": null,
   "id": "23f6a10b-a6d5-4def-9d4c-95ecad65e427",
   "metadata": {},
   "outputs": [],
   "source": [
    "from LidarSim.lidar_sim import LidarSimulator\n",
    "import matplotlib.pyplot as plt\n",
    "import numpy as np\n",
    "%matplotlib inline\n",
    "from LidarSim.lidar_sim import LidarSimulator\n",
    "import Utilities.utilities as utilities\n",
    "from SplitAndMerge.split_and_merge import SplitAndMerge"
   ]
  },
  {
   "cell_type": "markdown",
   "id": "d8e2afa3-9eee-43df-94bc-0fb51009b29e",
   "metadata": {},
   "source": [
    "### Parameters"
   ]
  },
  {
   "cell_type": "code",
   "execution_count": null,
   "id": "79a5026f-f025-496f-98df-6fa778577358",
   "metadata": {},
   "outputs": [],
   "source": [
    "scenario = 'no obstacle'\n",
    "point = [100, 100]\n",
    "yaw = np.radians(45)\n",
    "lidar_error = 0.0\n",
    "sm_dist_threshold=0.005\n",
    "sm_min_points_per_segment=5\n",
    "merge = True\n",
    "precision = 1000\n",
    "pose_precision = 1e-08"
   ]
  },
  {
   "cell_type": "code",
   "execution_count": null,
   "id": "0867e72e-7b54-4a0c-ae0c-a7204482f0c6",
   "metadata": {},
   "outputs": [],
   "source": [
    "lidar_error = 0.002\n",
    "sm_dist_threshold=0.05\n",
    "sm_min_points_per_segment=4\n",
    "precision = 10\n",
    "pose_precision = 1e-02\n",
    "scenario = 'both long walls segmented'"
   ]
  },
  {
   "cell_type": "code",
   "execution_count": null,
   "id": "e954ad9a-516f-4578-9226-527cd71ef3ad",
   "metadata": {},
   "outputs": [],
   "source": [
    "def create_scenario(ls, scenario):\n",
    "    if scenario == 'no obstacle':\n",
    "        return\n",
    "    if scenario == 'obstacles but all walls visible':\n",
    "        ls.add_obstacle(201, 101, np.radians(0), 30, 30)\n",
    "        ls.add_obstacle(51, 51, np.radians(45), 30, 30)\n",
    "        ls.add_obstacle(51, 101, np.radians(0), 30, 30)\n",
    "        ls.add_obstacle(51, 151, np.radians(45), 30, 30) \n",
    "        ls.add_obstacle(251, 51, np.radians(45), 30, 30)\n",
    "        return\n",
    "    if scenario == 'one short wall obstructed':\n",
    "        ls.add_obstacle(201, 101, np.radians(0), 30, 30)\n",
    "        ls.add_obstacle(51, 51, np.radians(45), 30, 30)\n",
    "        ls.add_obstacle(61, 101, np.radians(0), 30, 30)\n",
    "        ls.add_obstacle(51, 151, np.radians(45), 30, 30) \n",
    "        ls.add_obstacle(251, 51, np.radians(45), 30, 30)\n",
    "        return\n",
    "    if scenario == 'long wall segmented':\n",
    "        ls.add_obstacle(101, 51, np.radians(0), 30, 30)\n",
    "    if scenario == 'both long walls segmented':\n",
    "        ls.add_obstacle(101, 51, np.radians(0), 30, 30)\n",
    "        ls.add_obstacle(101, 151, np.radians(0), 30, 30)\n",
    "        return"
   ]
  },
  {
   "cell_type": "code",
   "execution_count": null,
   "id": "b274dd85-8ea3-48ed-b71c-20eaa4cc6779",
   "metadata": {},
   "outputs": [],
   "source": [
    "test_lidar = LidarSimulator(\"robocup.stl\", error=lidar_error)\n",
    "create_scenario(test_lidar, scenario)\n",
    "plot_scan = test_lidar.get_lidar_points(point[0], point[1], yaw)\n",
    "triangles = test_lidar.get_env_triangles(point[0], point[1], yaw)\n",
    "triangles_map = test_lidar.get_map_triangles()"
   ]
  },
  {
   "cell_type": "code",
   "execution_count": null,
   "id": "2b3cf652-150b-471b-b217-a0cf8251eb6c",
   "metadata": {},
   "outputs": [],
   "source": [
    "fig, ax = plt.subplots(subplot_kw={'projection': 'polar'})\n",
    "ax.scatter(plot_scan[:, 0], plot_scan[:, 1], s=3.0)\n",
    "ax.set_rmax(250)\n",
    "ax.set_rticks([100, 200])  # Less radial ticks\n",
    "ax.grid(True)"
   ]
  },
  {
   "cell_type": "code",
   "execution_count": null,
   "id": "8bc9874b-9a83-416f-8f99-b61e0776b925",
   "metadata": {},
   "outputs": [],
   "source": [
    "x = []\n",
    "y = []\n",
    "for alpha, r in plot_scan:\n",
    "    x.append(r * np.cos(alpha))\n",
    "    y.append(r * np.sin(alpha))"
   ]
  },
  {
   "cell_type": "markdown",
   "id": "63e4e1d2-1199-4748-a40d-3df2ca5da2b9",
   "metadata": {},
   "source": [
    "## Reality in World Coordinates"
   ]
  },
  {
   "cell_type": "code",
   "execution_count": null,
   "id": "e2855496-a112-4d0f-95a3-c8f4c40e49f2",
   "metadata": {},
   "outputs": [],
   "source": [
    "fig,ax = plt.subplots()\n",
    "ax.axis('equal')\n",
    "plt.arrow(point[0], point[1], 10 * np.cos(yaw), 10 * np.sin(yaw), width=1.0)\n",
    "for t in triangles_map:\n",
    "        ax.fill(t[:, 0],t[:, 1],fill=False)"
   ]
  },
  {
   "cell_type": "code",
   "execution_count": null,
   "id": "11e382d1-2dff-4871-a248-2e5d5e3d85fd",
   "metadata": {},
   "outputs": [],
   "source": [
    "## Find lines in Lidar coordinates"
   ]
  },
  {
   "cell_type": "code",
   "execution_count": null,
   "id": "98728d31-5a45-420c-abb2-1000d94fe139",
   "metadata": {},
   "outputs": [],
   "source": [
    "sam = SplitAndMerge(line_point_dist_threshold=sm_dist_threshold, min_points_per_segment=sm_min_points_per_segment)\n",
    "alpha_a, r_a, segend, seglen, pointIdx_a = sam.extractLines(x, y)"
   ]
  },
  {
   "cell_type": "code",
   "execution_count": null,
   "id": "ef96a398-8c26-4450-93ab-30a2f3ad4485",
   "metadata": {},
   "outputs": [],
   "source": [
    "def merge_segments(alpha_a, r_a, segend, seglen, pointIdx_a, precision):\n",
    "    if not merge:\n",
    "        return segend, seglen, pointIdx_a\n",
    "    alpha_a_round = set(np.trunc(alpha_a * 1000) / 1000)\n",
    "    r_a_round = set(np.trunc(r_a * 1000) / 1000)\n",
    "    N = len(alpha_a_round)\n",
    "    r_segend = []\n",
    "    r_seglen = []\n",
    "    r_pointIdx_a = []\n",
    "    for alpha in alpha_a_round:\n",
    "        select_index_alpha = np.isclose(alpha_a, alpha, atol=1 / precision)\n",
    "        r_a_round = set(np.trunc(r_a[select_index_alpha] * 1000) / 1000)\n",
    "        send = segend[select_index_alpha]\n",
    "        slen = seglen[select_index_alpha]\n",
    "        sidx = pointIdx_a[select_index_alpha]\n",
    "        for radius in r_a_round:\n",
    "            select_index_r = np.isclose(r_a[select_index_alpha], radius, atol=1 / precision)\n",
    "            send_f = send[select_index_r]\n",
    "            slen_f = slen[select_index_r]\n",
    "            sidx_f = sidx[select_index_r]\n",
    "            \n",
    "            # check for wrap\n",
    "            if len(sidx_f) > 1 and sidx_f[-1][1] - sidx_f[0][0] > 300:\n",
    "                x_min = min(send_f[:, 0].min(), send_f[:, 2].min())\n",
    "                x_max = max(send_f[:, 0].max(), send_f[:, 2].max())         \n",
    "                y_min = np.concatenate([send_f[:, 1], send_f[:, 3]])[np.concatenate([send_f[:, 0] == x_min, send_f[:, 2] == x_min])][0]\n",
    "                y_max = np.concatenate([send_f[:, 1], send_f[:, 3]])[np.concatenate([send_f[:, 0] == x_max, send_f[:, 2] == x_max])][0]\n",
    "                r_segend.append([x_min, y_min, x_max, y_max])\n",
    "                r_seglen.append(np.array(slen_f).sum())\n",
    "                r_pointIdx_a.append([sidx[-1][0], sidx[0][1]])\n",
    "            else:\n",
    "                r_segend.append([send_f[0][0], send_f[0][1], send_f[-1][2], send_f[-1][3]])\n",
    "                r_seglen.append(np.array(slen_f).sum())\n",
    "                r_pointIdx_a.append([sidx_f[0][0], sidx_f[-1][1]])\n",
    "    \n",
    "    N = len(r_segend)\n",
    "    ret_segend = np.zeros((N, 4))\n",
    "    ret_seglen = np.zeros((N))\n",
    "    ret_pointIdx_a = np.zeros((N, 2), dtype=np.int64)\n",
    "    for i in range(N):\n",
    "        ret_segend[i] = r_segend[i]\n",
    "        ret_seglen[i] = r_seglen[i]\n",
    "        ret_pointIdx_a[i] = r_pointIdx_a[i]\n",
    "    return ret_segend, ret_seglen, ret_pointIdx_a                "
   ]
  },
  {
   "cell_type": "code",
   "execution_count": null,
   "id": "a4689eda-c0aa-4a17-ac35-c06c9d391c5b",
   "metadata": {},
   "outputs": [],
   "source": [
    "segend, seglen, pointIdx_a = merge_segments(alpha_a, r_a, segend, seglen, pointIdx_a, precision)"
   ]
  },
  {
   "cell_type": "code",
   "execution_count": null,
   "id": "4f6fba21-24f5-4894-a67e-b55cf013b372",
   "metadata": {},
   "outputs": [],
   "source": [
    "fig,ax = plt.subplots()\n",
    "ax.axis('equal')\n",
    "plt.arrow(0, 0, 10 * np.cos(0), 10 * np.sin(0), width=3.0)\n",
    "for j in range(segend.shape[0]):\n",
    "    ax.plot([segend[j,0], segend[j,2]], [segend[j,1], segend[j,3]])"
   ]
  },
  {
   "cell_type": "markdown",
   "id": "32b0dffc-2897-4584-853e-f6074f1caedc",
   "metadata": {},
   "source": [
    "## Find Bounding Box\n",
    "\n",
    "Assumption: Line with most points is part of border"
   ]
  },
  {
   "cell_type": "code",
   "execution_count": null,
   "id": "be265ee7-e978-4233-b6ee-e54259d19fee",
   "metadata": {},
   "outputs": [],
   "source": [
    "fig,ax = plt.subplots()\n",
    "ax.axis('equal')\n",
    "plt.arrow(0, 0, 10 * np.cos(0), 10 * np.sin(0), width=3.0)\n",
    "for j in range(segend.shape[0]):\n",
    "    ax.plot([segend[j,0], segend[j,2]], [segend[j,1], segend[j,3]])\n",
    "index_maxlen = np.flip(np.argsort(seglen))[0]\n",
    "ax.plot([segend[index_maxlen,0], segend[index_maxlen,2]], [segend[index_maxlen,1], segend[index_maxlen,3]], 'r+')"
   ]
  },
  {
   "cell_type": "code",
   "execution_count": null,
   "id": "d60d8e4a-1aac-4c33-8794-dec33b3720e2",
   "metadata": {},
   "outputs": [],
   "source": [
    "index_maxlen = np.flip(np.argsort(seglen))[0]\n",
    "r = np.sqrt((segend[index_maxlen,2] - segend[index_maxlen,0])**2 + (segend[index_maxlen,3] - segend[index_maxlen,1])**2)\n",
    "c = (segend[index_maxlen,2] - segend[index_maxlen,0]) / r    \n",
    "s = (segend[index_maxlen,3] - segend[index_maxlen,1]) / r\n",
    "theta = -np.arctan2(segend[index_maxlen,3] - segend[index_maxlen,1], segend[index_maxlen,2] - segend[index_maxlen,0])\n",
    "R = np.array(((c, -s), (s, c)))"
   ]
  },
  {
   "cell_type": "code",
   "execution_count": null,
   "id": "71a4fee8-2a40-40e2-adaf-130bb1f3f388",
   "metadata": {},
   "outputs": [],
   "source": [
    "seg_start_rot = np.dot(R.transpose(), segend[:, 0:2].transpose())\n",
    "seg_end_rot = np.dot(R.transpose(), segend[:, 2:4].transpose())"
   ]
  },
  {
   "cell_type": "code",
   "execution_count": null,
   "id": "db163c90-e3d0-4fe8-8cf6-8f706eea394c",
   "metadata": {},
   "outputs": [],
   "source": [
    "# Calculate bounding box\n",
    "x_min = min(seg_start_rot[0].min(), seg_end_rot[0].min())\n",
    "y_min = min(seg_start_rot[1].min(), seg_end_rot[1].min())\n",
    "x_max = max(seg_start_rot[0].max(), seg_end_rot[0].max())\n",
    "y_max = max(seg_start_rot[1].max(), seg_end_rot[1].max())"
   ]
  },
  {
   "cell_type": "code",
   "execution_count": null,
   "id": "55b3497d-ca7c-4b9f-8f78-948b7bade61f",
   "metadata": {},
   "outputs": [],
   "source": [
    "fig,ax = plt.subplots()\n",
    "ax.axis('equal')\n",
    "plt.scatter([x_min, x_min, x_max, x_max], [y_min, y_max, y_min, y_max])\n",
    "for j in range(seg_start_rot.shape[1]):\n",
    "    ax.plot([seg_start_rot[0][j], seg_end_rot[0][j]], [seg_start_rot[1][j], seg_end_rot[1][j]])"
   ]
  },
  {
   "cell_type": "markdown",
   "id": "371e4e30-840e-486a-a4cb-99c4603b3f47",
   "metadata": {},
   "source": [
    "## Validation\n",
    "\n",
    "Are the four corners visible?\n",
    "\n",
    "Do we see a rectangle?"
   ]
  },
  {
   "cell_type": "code",
   "execution_count": null,
   "id": "d8c9b314-b28e-41ee-a221-e6bea981cac1",
   "metadata": {},
   "outputs": [],
   "source": [
    "l1 = x_max - x_min\n",
    "l2 = y_max - y_min\n",
    "if l2 > l1:\n",
    "    print(\"check orientation\")"
   ]
  },
  {
   "cell_type": "code",
   "execution_count": null,
   "id": "16778682-9fd8-4a79-a655-666722e97b44",
   "metadata": {},
   "outputs": [],
   "source": [
    "if not np.isclose(l1, [300.0], rtol=pose_precision):\n",
    "    print(\"invalid rectangle lenght: %s\" % l1)\n",
    "if not np.isclose(l2, [200.0], rtol=pose_precision):\n",
    "    print(\"invalid rectangle width: %s\" % l2)"
   ]
  },
  {
   "cell_type": "markdown",
   "id": "685b8348-ce91-4140-9a7e-f4b4a5ed1b5c",
   "metadata": {},
   "source": [
    "## Find Pose"
   ]
  },
  {
   "cell_type": "code",
   "execution_count": null,
   "id": "3a5ad50e-47ce-40d3-934e-91c0ca5d4c15",
   "metadata": {},
   "outputs": [],
   "source": [
    "pose = []\n",
    "# add wall thickness\n",
    "pose.append(-x_min + 1.0)\n",
    "pose.append(-y_min + 1.0)\n",
    "pose.append(theta)"
   ]
  },
  {
   "cell_type": "code",
   "execution_count": null,
   "id": "4d53e896-16d5-4937-8436-652d62e4d708",
   "metadata": {},
   "outputs": [],
   "source": [
    "pose"
   ]
  },
  {
   "cell_type": "code",
   "execution_count": null,
   "id": "47a0cb53-8b72-4e4b-b8d3-420baeaf9f63",
   "metadata": {},
   "outputs": [],
   "source": [
    "print(point + [yaw])"
   ]
  },
  {
   "cell_type": "code",
   "execution_count": null,
   "id": "a8a9c39c-a6db-4e44-b4c1-76ead1c4ee6c",
   "metadata": {},
   "outputs": [],
   "source": [
    "if not np.isclose(pose[0], point[0], rtol=pose_precision):\n",
    "    print(\"invalid pose x: %s expected %s\" % (pose[0], point[0]))\n",
    "if not np.isclose(pose[1], point[1], rtol=pose_precision):\n",
    "    print(\"invalid pose y: %s expected %s\" % (pose[1], point[1]))\n",
    "if not np.isclose(pose[2], yaw, rtol=pose_precision):\n",
    "    print(\"invalid pose theta: %s expected %s\" % (pose[2], yaw))"
   ]
  }
 ],
 "metadata": {
  "kernelspec": {
   "display_name": "lidar_sim",
   "language": "python",
   "name": "lidar_sim"
  },
  "language_info": {
   "codemirror_mode": {
    "name": "ipython",
    "version": 3
   },
   "file_extension": ".py",
   "mimetype": "text/x-python",
   "name": "python",
   "nbconvert_exporter": "python",
   "pygments_lexer": "ipython3",
   "version": "3.11.4"
  }
 },
 "nbformat": 4,
 "nbformat_minor": 5
}
