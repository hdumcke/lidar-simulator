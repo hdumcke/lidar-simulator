{
 "cells": [
  {
   "cell_type": "markdown",
   "id": "0b6b8a46-c6e9-49b8-a398-e856e88dd164",
   "metadata": {},
   "source": [
    "# Algorithm 3: Incremental\n",
    "\n",
    "```\n",
    "1. Start by the first 2 points, construct a line\n",
    "2. Add the next point to the current line model\n",
    "3. Recompute the line parameters by line fitting\n",
    "4. If it satisfies the line condition, continue (go to step 2)\n",
    "5. Otherwise, put back the last point, recompute the line parameters, return the line \n",
    "6. Continue with the next two points, go to step 2\n",
    "```\n",
    "\n",
    "## Reference\n",
    "\n",
    "Roland Siegwart, Illah Nourbakhsh, and Davide Scaramuzza. Introduction to Autonomous Mobile Robots. MIT Press, 2nd edition, 2011.\n",
    "\n",
    "```\n",
    "Put all points on curve list, in order along the curve \n",
    "Empty the line point list\n",
    "Empty the line list\n",
    "Until there are too few points on the curve\n",
    "  Transfer first few points on the curve to the line point list Fit line to line point list\n",
    "  While fitted line is good enough\n",
    "    Transfer the next point on the curve to the line point list and refit the line\n",
    "  end\n",
    "  Transfer last point(s) back to curve \n",
    "  Refit line\n",
    "  Attach line to line list\n",
    "end\n",
    "```\n",
    "\n",
    "## Reference\n",
    "Forsyth, D. A., Ponce, J., Computer Vision: A Modern Approach. Upper Saddle River, NJ, Prentice Hall, 2003."
   ]
  },
  {
   "cell_type": "code",
   "execution_count": null,
   "id": "8493833b-70c1-4f0f-a8d7-9ccdac1f42d9",
   "metadata": {},
   "outputs": [],
   "source": [
    "%matplotlib inline\n",
    "import matplotlib.pyplot as plt\n",
    "import numpy as np\n",
    "import pickle\n",
    "from Incremental.incremental import Incremental"
   ]
  },
  {
   "cell_type": "code",
   "execution_count": null,
   "id": "7338e8ff-924e-49ad-b2f3-8cb33ede5f6b",
   "metadata": {},
   "outputs": [],
   "source": [
    "testdata = []\n",
    "for i in range(6):\n",
    "    with open('/Users/hdumcke/git/lidar-simulator/jupyternb/data/testLineExtraction%s.mat.pickle' % str(i+1), 'rb') as f:\n",
    "        testdata.append(pickle.load(f))"
   ]
  },
  {
   "cell_type": "code",
   "execution_count": null,
   "id": "3096064f-7a7f-4803-8196-0e2841f8b256",
   "metadata": {},
   "outputs": [],
   "source": [
    "fig, axs = plt.subplots(3, 2)\n",
    "for i in range(6):\n",
    "    row_index = int(i / 2)\n",
    "    column_index = i % 2\n",
    "    axs[row_index, column_index].axis('equal')\n",
    "    x = testdata[i]['rho'] * np.cos(testdata[i]['theta'])\n",
    "    y = testdata[i]['rho'] * np.sin(testdata[i]['theta'])\n",
    "    axs[row_index, column_index].scatter(x, y)"
   ]
  },
  {
   "cell_type": "code",
   "execution_count": null,
   "id": "71ef992d-31a3-4910-9ecd-f13a0dc7189e",
   "metadata": {},
   "outputs": [],
   "source": [
    "inc = Incremental(dist_threshold=0.05, min_points_per_segment=5)\n",
    "\n",
    "fig, axs = plt.subplots(3, 2)\n",
    "for i in range(6):\n",
    "    row_index = int(i / 2)\n",
    "    column_index = i % 2\n",
    "    axs[row_index, column_index].axis('equal')\n",
    "    x = testdata[i]['rho'] * np.cos(testdata[i]['theta'])\n",
    "    y = testdata[i]['rho'] * np.sin(testdata[i]['theta'])\n",
    "    segend, seglen, pointIdx_a = inc.extractLines(x[0], y[0])\n",
    "    for j in range(segend.shape[0]):\n",
    "        axs[row_index, column_index].plot([segend[j,0], segend[j,2]], [segend[j,1], segend[j,3]])"
   ]
  },
  {
   "cell_type": "code",
   "execution_count": null,
   "id": "f86d4c1b-80fe-4b1a-83b0-ac14d4a35d7a",
   "metadata": {},
   "outputs": [],
   "source": [
    "from LidarSim.lidar_sim import LidarSimulator\n",
    "lidar = LidarSimulator(\"rectangle.stl\")"
   ]
  },
  {
   "cell_type": "code",
   "execution_count": null,
   "id": "faf247fb-c1cc-4ced-9ff0-b013817fcf39",
   "metadata": {},
   "outputs": [],
   "source": [
    "point = [500, 300]\n",
    "yaw = np.radians(0)\n",
    "plot_scan = lidar.get_lidar_points(point[0], point[1], yaw)"
   ]
  },
  {
   "cell_type": "code",
   "execution_count": null,
   "id": "48fd9fd2-6f1c-4822-b89b-93e30a569974",
   "metadata": {},
   "outputs": [],
   "source": [
    "# get carthesian coordinates\n",
    "x = []\n",
    "y = []\n",
    "for alpha, r in plot_scan:\n",
    "    x.append(r * np.cos(alpha)+ point[0])\n",
    "    y.append(r * np.sin(alpha) + point[1])"
   ]
  },
  {
   "cell_type": "code",
   "execution_count": null,
   "id": "4782a6eb-fbbf-4cb1-868f-a03ad228b9df",
   "metadata": {},
   "outputs": [],
   "source": [
    "inc = Incremental()\n",
    "\n",
    "fig,ax = plt.subplots()\n",
    "ax.axis('equal')\n",
    "plt.arrow(point[0], point[1], 10 * np.cos(yaw), 10 * np.sin(yaw), width=3.0)\n",
    "#plt.scatter (x[212:330], y[212:330])\n",
    "segend, seglen, pointIdx_a = inc.extractLines(x, y)\n",
    "for j in range(segend.shape[0]):\n",
    "    ax.plot([segend[j,0], segend[j,2]], [segend[j,1], segend[j,3]])"
   ]
  },
  {
   "cell_type": "code",
   "execution_count": null,
   "id": "fe9c2c08-53f3-4d35-aa62-91497bd7348b",
   "metadata": {},
   "outputs": [],
   "source": [
    "import Utilities.utilities as utilities"
   ]
  },
  {
   "cell_type": "code",
   "execution_count": null,
   "id": "7fa868e8-35fa-44c0-8f57-14e5f879d976",
   "metadata": {},
   "outputs": [],
   "source": [
    "from LidarSim.lidar_sim import LidarSimulator\n",
    "lidar = LidarSimulator(\"maze.stl\")\n",
    "triangles = lidar.get_map_triangles()\n",
    "point = [25, 25]\n",
    "yaw = np.radians(90)"
   ]
  },
  {
   "cell_type": "code",
   "execution_count": null,
   "id": "79b52a4f-1427-47d2-9f3b-3f1132a727c4",
   "metadata": {},
   "outputs": [],
   "source": [
    "pose = [[25, 25, 90 ],\n",
    "        [25, 175, 90 ],\n",
    "        [25, 175, 0 ],\n",
    "        [75, 175, 0 ],\n",
    "        [75, 125, 0 ],\n",
    "        [25, 325, 90 ]]\n",
    "\n",
    "fig, axs = plt.subplots(3, 2, figsize=(15, 15))\n",
    "for i in range(6):\n",
    "    row_index = int(i / 2)\n",
    "    column_index = i % 2\n",
    "    axs[row_index, column_index].axis('equal')\n",
    "    point = pose[i][0:2]\n",
    "    yaw = np.radians(pose[i][2])\n",
    "    plot_scan = lidar.get_lidar_points(point[0], point[1], yaw)\n",
    "    # get carthesian coordinates\n",
    "    x = []\n",
    "    y = []\n",
    "    for alpha, r in plot_scan:\n",
    "        x.append(r * np.cos(alpha)+ point[0])\n",
    "        y.append(r * np.sin(alpha) + point[1])\n",
    "    \n",
    "    inc = Incremental()\n",
    "\n",
    "    axs[row_index, column_index].arrow(point[0], point[1], 10 * np.cos(yaw), 10 * np.sin(yaw), width=3.0)\n",
    "    segend, seglen, pointIdx_a = inc.extractLines(x, y)\n",
    "    for j in range(segend.shape[0]):\n",
    "        x_p, y_p = utilities.rotate_segend(segend[j], point, yaw)\n",
    "        axs[row_index, column_index].plot(x_p, y_p, 'r')\n",
    "    for t in triangles:\n",
    "        axs[row_index, column_index].fill(t[:, 0],t[:, 1],fill=False)"
   ]
  },
  {
   "cell_type": "code",
   "execution_count": null,
   "id": "449d5011-4ea7-4087-83c2-3dcb6c48b482",
   "metadata": {},
   "outputs": [],
   "source": [
    "from LidarSim.lidar_sim import LidarSimulator\n",
    "lidar = LidarSimulator(\"racetrack.stl\")\n",
    "triangles = lidar.get_map_triangles()\n",
    "yaw = np.radians(180)"
   ]
  },
  {
   "cell_type": "code",
   "execution_count": null,
   "id": "de7c5121-8ec7-4d14-bb7a-40df6297143e",
   "metadata": {},
   "outputs": [],
   "source": [
    "pose = [[900, 50, 180 ],\n",
    "        [200, 50, 180 ],\n",
    "        [50, 100, 90 ],\n",
    "        [75, 200, 45 ],\n",
    "        [200, 250, -40 ],\n",
    "        [500, 500, 0 ]]\n",
    "\n",
    "fig, axs = plt.subplots(3, 2, figsize=(15, 15))\n",
    "for i in range(6):\n",
    "    row_index = int(i / 2)\n",
    "    column_index = i % 2\n",
    "    axs[row_index, column_index].axis('equal')\n",
    "    point = pose[i][0:2]\n",
    "    yaw = np.radians(pose[i][2])\n",
    "    plot_scan = lidar.get_lidar_points(point[0], point[1], yaw)\n",
    "    # get carthesian coordinates\n",
    "    x = []\n",
    "    y = []\n",
    "    for alpha, r in plot_scan:\n",
    "        x.append(r * np.cos(alpha)+ point[0])\n",
    "        y.append(r * np.sin(alpha) + point[1])\n",
    "    \n",
    "    inc = Incremental()\n",
    "\n",
    "    axs[row_index, column_index].arrow(point[0], point[1], 10 * np.cos(yaw), 10 * np.sin(yaw), width=3.0)\n",
    "    segend, seglen, pointIdx_a = inc.extractLines(x, y)\n",
    "    for j in range(segend.shape[0]):\n",
    "        x_p, y_p = utilities.rotate_segend(segend[j], point, yaw)\n",
    "        axs[row_index, column_index].plot(x_p, y_p, 'r')\n",
    "    for t in triangles:\n",
    "        axs[row_index, column_index].fill(t[:, 0],t[:, 1],fill=False)"
   ]
  }
 ],
 "metadata": {
  "kernelspec": {
   "display_name": "lidar_sim",
   "language": "python",
   "name": "lidar_sim"
  },
  "language_info": {
   "codemirror_mode": {
    "name": "ipython",
    "version": 3
   },
   "file_extension": ".py",
   "mimetype": "text/x-python",
   "name": "python",
   "nbconvert_exporter": "python",
   "pygments_lexer": "ipython3",
   "version": "3.11.4"
  }
 },
 "nbformat": 4,
 "nbformat_minor": 5
}
