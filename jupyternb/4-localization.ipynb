{
 "cells": [
  {
   "cell_type": "markdown",
   "id": "3ec6b08c-2450-4420-9a39-0918acccde09",
   "metadata": {},
   "source": [
    "# Localization"
   ]
  },
  {
   "cell_type": "markdown",
   "id": "881b50bd-f60a-42b8-a3fc-da4cb4e952a0",
   "metadata": {},
   "source": [
    "## ToDo"
   ]
  }
 ],
 "metadata": {
  "kernelspec": {
   "display_name": "lidar_sim",
   "language": "python",
   "name": "lidar_sim"
  },
  "language_info": {
   "codemirror_mode": {
    "name": "ipython",
    "version": 3
   },
   "file_extension": ".py",
   "mimetype": "text/x-python",
   "name": "python",
   "nbconvert_exporter": "python",
   "pygments_lexer": "ipython3",
   "version": "3.11.4"
  }
 },
 "nbformat": 4,
 "nbformat_minor": 5
}
