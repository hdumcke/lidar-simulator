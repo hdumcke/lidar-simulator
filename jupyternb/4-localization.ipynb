{
 "cells": [
  {
   "cell_type": "markdown",
   "id": "fbf609b4-5944-4a25-a134-300d7959833a",
   "metadata": {},
   "source": [
    "# Localization\n",
    "\n",
    "Given a map and a Lidar scann we will estimating the lidar pose"
   ]
  }
 ],
 "metadata": {
  "kernelspec": {
   "display_name": "Python 3 (ipykernel)",
   "language": "python",
   "name": "python3"
  },
  "language_info": {
   "codemirror_mode": {
    "name": "ipython",
    "version": 3
   },
   "file_extension": ".py",
   "mimetype": "text/x-python",
   "name": "python",
   "nbconvert_exporter": "python",
   "pygments_lexer": "ipython3",
   "version": "3.11.3"
  }
 },
 "nbformat": 4,
 "nbformat_minor": 5
}
