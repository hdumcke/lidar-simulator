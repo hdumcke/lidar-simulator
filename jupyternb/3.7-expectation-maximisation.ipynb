{
 "cells": [
  {
   "cell_type": "markdown",
   "id": "b992224c-6b50-4617-aa1b-6f5dbe2286f5",
   "metadata": {},
   "source": [
    "# Algorithm 6: Expectation Maximization\n",
    "\n",
    "```\n",
    "1.  Initial: let A be a set of N points \n",
    "2.  repeat\n",
    "3.    Randomly generate parameters for a line \n",
    "4.    Initialize weights for remaining points \n",
    "5.    repeat\n",
    "6.      E-Step: Compute the weights of the points from the line model\n",
    "7.      M-Step: Recompute the line model parameters\n",
    "8.     until Maximum number of steps reached or convergence\n",
    "9.  until Maximum number of trials reached or found a line\n",
    "10. If found, store the line, remove the inliers, go to step 2 \n",
    "11  Otherwise, terminate\n",
    "```\n",
    "\n",
    "## Reference\n",
    "Forsyth, D. A., Ponce, J., Computer Vision: A Modern Approach. Upper Saddle River, NJ, Prentice Hall, 2003."
   ]
  },
  {
   "cell_type": "markdown",
   "id": "255aae00-4391-47fd-b0a2-bae80b7cb10c",
   "metadata": {},
   "source": [
    "## ToDO"
   ]
  }
 ],
 "metadata": {
  "kernelspec": {
   "display_name": "lidar_sim",
   "language": "python",
   "name": "lidar_sim"
  },
  "language_info": {
   "codemirror_mode": {
    "name": "ipython",
    "version": 3
   },
   "file_extension": ".py",
   "mimetype": "text/x-python",
   "name": "python",
   "nbconvert_exporter": "python",
   "pygments_lexer": "ipython3",
   "version": "3.11.4"
  }
 },
 "nbformat": 4,
 "nbformat_minor": 5
}
