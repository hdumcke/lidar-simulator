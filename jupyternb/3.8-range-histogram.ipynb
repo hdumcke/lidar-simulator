{
 "cells": [
  {
   "cell_type": "markdown",
   "id": "bd347a9c-e306-49c4-9ff4-1f374c135f83",
   "metadata": {},
   "source": [
    "# Range histogram features"
   ]
  },
  {
   "cell_type": "markdown",
   "id": "013a5403-e388-43fa-b4cf-c4a6cbb396da",
   "metadata": {},
   "source": [
    "## ToDO"
   ]
  }
 ],
 "metadata": {
  "kernelspec": {
   "display_name": "lidar_sim",
   "language": "python",
   "name": "lidar_sim"
  },
  "language_info": {
   "codemirror_mode": {
    "name": "ipython",
    "version": 3
   },
   "file_extension": ".py",
   "mimetype": "text/x-python",
   "name": "python",
   "nbconvert_exporter": "python",
   "pygments_lexer": "ipython3",
   "version": "3.11.4"
  }
 },
 "nbformat": 4,
 "nbformat_minor": 5
}
