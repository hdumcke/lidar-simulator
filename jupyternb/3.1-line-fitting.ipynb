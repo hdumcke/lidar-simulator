{
 "cells": [
  {
   "cell_type": "markdown",
   "id": "f5e296c8-970d-4fec-a0bb-a4c28ef99e3a",
   "metadata": {},
   "source": [
    "# Problem Statement\n",
    "\n",
    "Assuming we have a set of points that all belong to a single line. By choosing two points we can calculate the characteristics of the line and assuming we have no statistical error we can prove that all other points are part of the line\n",
    "\n",
    "However we will always have measurement errors with Lidar, therefore we need to use statistical methods to fit a line through the points that minimizez the error"
   ]
  },
  {
   "cell_type": "markdown",
   "id": "ead68c24-a347-4102-8087-edc2cfc9d5b7",
   "metadata": {},
   "source": [
    "## Ideal Situation"
   ]
  },
  {
   "cell_type": "code",
   "execution_count": null,
   "id": "182af7a8-cbb7-471f-9e9d-6f98c0d54b4c",
   "metadata": {},
   "outputs": [],
   "source": [
    "%matplotlib inline\n",
    "import matplotlib.pyplot as plt\n",
    "import numpy as np\n",
    "from LidarSim.lidar_sim import LidarSimulator"
   ]
  },
  {
   "cell_type": "code",
   "execution_count": null,
   "id": "dc36da09-07f1-4aef-8095-ab1c76b50543",
   "metadata": {},
   "outputs": [],
   "source": [
    "lidar = LidarSimulator(\"rectangle.stl\")\n",
    "point = [500, 300]\n",
    "yaw = np.radians(0)\n",
    "plot_scan = lidar.get_lidar_points(point[0], point[1], yaw, theta=np.radians(90), view_range=60)\n",
    "triangles = lidar.get_map_triangles()"
   ]
  },
  {
   "cell_type": "code",
   "execution_count": null,
   "id": "5bd06bcc-212f-4bf6-9681-dcb817c92aa4",
   "metadata": {},
   "outputs": [],
   "source": [
    "# get carthesian coordinates\n",
    "x = []\n",
    "y = []\n",
    "for alpha, r in plot_scan:\n",
    "    x.append(r * np.cos(alpha)+ point[0])\n",
    "    y.append(r * np.sin(alpha) + point[1])"
   ]
  },
  {
   "cell_type": "code",
   "execution_count": null,
   "id": "af96cf99-805e-4938-90b7-90891a0c56d2",
   "metadata": {},
   "outputs": [],
   "source": [
    "fig,ax = plt.subplots()\n",
    "plt.scatter (x, y)\n",
    "for t in triangles:\n",
    "    ax.fill(t[:, 0],t[:, 1],fill=False)"
   ]
  },
  {
   "cell_type": "code",
   "execution_count": null,
   "id": "50f38776-0e04-4581-9763-6ee3ce84850d",
   "metadata": {},
   "outputs": [],
   "source": [
    "m = (y[-1] - y[0]) / (x[-1] - x[0])\n",
    "b = y[-1] - m * x[-1]\n",
    "y_err = []\n",
    "for i in range(len(x)):\n",
    "    y_err.append(y[i] - m * x[i] - b)\n",
    "    \n",
    "y_err = np.array(y_err)\n",
    "print(\"mean: %0.2f, median: %0.2f, standard deviation: %0.2f\" % (np.mean(y_err), np.median(y_err), np.std(y_err)))"
   ]
  },
  {
   "cell_type": "markdown",
   "id": "8fe68835-3f87-4ba2-8948-008e486e1e0b",
   "metadata": {},
   "source": [
    "# With statistical error"
   ]
  },
  {
   "cell_type": "code",
   "execution_count": null,
   "id": "8566a94b-a514-4640-bb1b-c7043dbbd016",
   "metadata": {},
   "outputs": [],
   "source": [
    "lidar = LidarSimulator(\"rectangle.stl\", error=0.02)\n",
    "point = [500, 300]\n",
    "yaw = np.radians(0)\n",
    "plot_scan = lidar.get_lidar_points(point[0], point[1], yaw, theta=np.radians(90), view_range=60)\n",
    "triangles = lidar.get_map_triangles()"
   ]
  },
  {
   "cell_type": "code",
   "execution_count": null,
   "id": "ae8dac3e-373d-4598-bd70-7e583290d005",
   "metadata": {},
   "outputs": [],
   "source": [
    "# get carthesian coordinates\n",
    "x = []\n",
    "y = []\n",
    "for alpha, r in plot_scan:\n",
    "    x.append(r * np.cos(alpha)+ point[0])\n",
    "    y.append(r * np.sin(alpha) + point[1])"
   ]
  },
  {
   "cell_type": "code",
   "execution_count": null,
   "id": "0c82e800-cb76-4ae7-afba-f955ac641211",
   "metadata": {},
   "outputs": [],
   "source": [
    "fig,ax = plt.subplots()\n",
    "plt.scatter (x, y)\n",
    "for t in triangles:\n",
    "    ax.fill(t[:, 0],t[:, 1],fill=False)"
   ]
  },
  {
   "cell_type": "code",
   "execution_count": null,
   "id": "2097df7d-0d4d-4f48-a5d9-ef6e82d1e761",
   "metadata": {},
   "outputs": [],
   "source": [
    "m = (y[-1] - y[0]) / (x[-1] - x[0])\n",
    "b = y[-1] - m * x[-1]\n",
    "y_err = []\n",
    "for i in range(len(x)):\n",
    "    y_err.append(y[i] - m * x[i] - b)\n",
    "    \n",
    "y_err = np.array(y_err)\n",
    "print(\"mean: %0.2f, median: %0.2f, standard deviation: %0.2f\" % (np.mean(y_err), np.median(y_err), np.std(y_err)))"
   ]
  },
  {
   "cell_type": "markdown",
   "id": "a684666f-b8dc-4a67-a0e0-fbac0d16e2dc",
   "metadata": {},
   "source": [
    "## Statistical Line Fitting"
   ]
  },
  {
   "cell_type": "code",
   "execution_count": null,
   "id": "c0ad29c6-9292-41f0-94bd-2d818338f2f9",
   "metadata": {},
   "outputs": [],
   "source": [
    "model = np.polyfit (x, y, 1)"
   ]
  },
  {
   "cell_type": "code",
   "execution_count": null,
   "id": "138ce025-3322-4ed2-9d83-0abbecbcaa86",
   "metadata": {},
   "outputs": [],
   "source": [
    "y_err = []\n",
    "for i in range(len(x)):\n",
    "    y_err.append(y[i] - model[0] * x[i] - model[1])\n",
    "    \n",
    "y_err = np.array(y_err)\n",
    "print(\"mean: %0.2f, median: %0.2f, standard deviation: %0.2f\" % (np.mean(y_err), np.median(y_err), np.std(y_err)))"
   ]
  },
  {
   "cell_type": "code",
   "execution_count": null,
   "id": "0cb53956-165c-4594-a2d6-590f891986f9",
   "metadata": {},
   "outputs": [],
   "source": [
    "x[-1]"
   ]
  },
  {
   "cell_type": "code",
   "execution_count": null,
   "id": "c45cc65e-00cb-4567-9a66-3d3746a999d9",
   "metadata": {},
   "outputs": [],
   "source": [
    "x_lin_reg = np.arange(x[-1], x[1], 10)\n",
    "predict = np.poly1d(model)\n",
    "y_lin_reg = predict(x_lin_reg)\n",
    "\n",
    "fig,ax = plt.subplots()\n",
    "plt.scatter (x, y)\n",
    "plt.plot (x_lin_reg, y_lin_reg, c = 'r')"
   ]
  },
  {
   "cell_type": "markdown",
   "id": "4a0a8a91-ba06-4abc-bc66-ca1a3e66301f",
   "metadata": {
    "tags": []
   },
   "source": [
    "## Fitting a line with Least Square Method\n",
    "\n",
    "Reference: https://www.varsitytutors.com/hotmath/hotmath_help/topics/line-of-best-fit\n",
    "\n",
    "Step 1: Calculate the mean of the x -values and the mean of the y -values.\n",
    "\n",
    "$$\\overline{X} = \\frac{\\sum_{i=1}^nx_i}{n}$$\n",
    "$$\\overline{Y} = \\frac{\\sum_{i=1}^ny_i}{n}$$\n",
    "\n",
    "Step 2: The following formula gives the slope of the line of best fit:\n",
    "\n",
    "$$m = \\frac{\\sum_{i=1}^n(x_i-\\overline{X})(y_i-\\overline{Y})}{\\sum_{i=1}^n(x_i-\\overline{X})^2}$$\n",
    "\n",
    "\n",
    "Step 3: Compute the y-intercept of the line by using the formula:\n",
    "\n",
    "$$b = \\overline{Y} - m \\overline{X}$$\n",
    "\n",
    "Step 4: Use the slope m and the y -intercept b to form the equation of the line.\n",
    "\n",
    "\n",
    "To contruct a perpendicular line we have to solve the equations\n",
    "\n",
    "$$y = mx + b$$\n",
    "$$y = -\\frac{1}{m}x$$"
   ]
  },
  {
   "cell_type": "code",
   "execution_count": null,
   "id": "63078d07-57e4-44b3-b712-706c926a7a0c",
   "metadata": {},
   "outputs": [],
   "source": [
    "angles = np.arange(0, 85, 5)\n",
    "values = [0.5197, 0.4404, 0.4850, 0.4222, 0.4132, 0.4371, 0.3912, 0.3949, 0.3919, 0.4276, 0.4075, 0.3956, 0.4053, 0.4752, 0.5032, 0.5273, 0.4879]"
   ]
  },
  {
   "cell_type": "code",
   "execution_count": null,
   "id": "d890cb25-369d-46c2-a3e3-1cbb18f24288",
   "metadata": {},
   "outputs": [],
   "source": [
    "# get carthesian coordinates\n",
    "x_cart = []\n",
    "y_cart = []\n",
    "for i in range(len(values)):\n",
    "    r = values[i]\n",
    "    alpha = np.radians(angles[i])\n",
    "    x_cart.append(r * np.cos(alpha))\n",
    "    y_cart.append(r * np.sin(alpha))"
   ]
  },
  {
   "cell_type": "code",
   "execution_count": null,
   "id": "4a059d6f-8158-40ee-a9b8-b71ca519f296",
   "metadata": {},
   "outputs": [],
   "source": [
    "# Calculate centroid\n",
    "X = np.average(x_cart)\n",
    "Y = np.average(y_cart)"
   ]
  },
  {
   "cell_type": "code",
   "execution_count": null,
   "id": "02166bbb-f881-44b0-a8b5-10f93fe53029",
   "metadata": {},
   "outputs": [],
   "source": [
    "# calculate line parameters\n",
    "X_d = (np.array(x_cart) - X)\n",
    "Y_d = (np.array(y_cart) - Y)\n",
    "X_d_2 = X_d * X_d\n",
    "m = (X_d * Y_d).sum() / X_d_2.sum()\n",
    "b = Y - m * X"
   ]
  },
  {
   "cell_type": "code",
   "execution_count": null,
   "id": "a48e6ab7-8828-4703-a33c-cfbc65c248e0",
   "metadata": {},
   "outputs": [],
   "source": [
    "# calculate line\n",
    "\n",
    "line = np.empty((2,2))\n",
    "line[0,0] = np.array(x_cart).min()\n",
    "line[1,0] = np.array(x_cart).max()\n",
    "line[0,1] = m * line[0,0] + b\n",
    "line[1,1] = m * line[1,0] + b"
   ]
  },
  {
   "cell_type": "code",
   "execution_count": null,
   "id": "eca7df12-f028-43d2-870a-fcd8821e0940",
   "metadata": {},
   "outputs": [],
   "source": [
    "# caclulate perpendicular line\n",
    "x = -b*m/(m*m+1)\n",
    "y = -x/m"
   ]
  },
  {
   "cell_type": "code",
   "execution_count": null,
   "id": "332e9d33-f471-4579-b475-cd2d54d8bb8a",
   "metadata": {},
   "outputs": [],
   "source": [
    "fig,ax = plt.subplots()\n",
    "plt.plot([0, x], [0, y], c = 'r')\n",
    "plt.plot(line[:, 0], line[:, 1])\n",
    "plt.scatter (x_cart, y_cart)\n",
    "ax.axis('equal')"
   ]
  },
  {
   "cell_type": "code",
   "execution_count": null,
   "id": "01f7331c-b41d-4d91-b860-5874703cc5fa",
   "metadata": {},
   "outputs": [],
   "source": [
    "alpha = np.arctan2(y, x)\n",
    "r = np.sqrt(x**2 + y**2)\n",
    "print(\"alpha = %.2f r = %.2f\" % (np.degrees(alpha), r))"
   ]
  },
  {
   "cell_type": "code",
   "execution_count": null,
   "id": "98259e15-a1ad-4fe9-bdc3-790ac0a1b5b9",
   "metadata": {},
   "outputs": [],
   "source": [
    "def fitLine(x, y):\n",
    "    X = np.average(x)\n",
    "    Y = np.average(y)\n",
    "    X_d = (np.array(x) - X)\n",
    "    Y_d = (np.array(y) - Y)\n",
    "    X_d_2 = X_d * X_d\n",
    "    X_d_2_sum = X_d_2.sum()\n",
    "    if np.isclose([X_d_2_sum], [0.0])[0]:\n",
    "        if X >= 0:\n",
    "            alpha = 0.0\n",
    "            r = X\n",
    "        else:\n",
    "            alpha = np.pi\n",
    "            r = -X\n",
    "        return None, None, alpha, r\n",
    "    m = (X_d * Y_d).sum() / X_d_2.sum()\n",
    "    b = Y - m * X\n",
    "    # caclulate perpendicular line\n",
    "    x_p = -b*m/(m*m+1)\n",
    "    if np.isclose([m], [0.0])[0]:\n",
    "        if Y >= 0:\n",
    "            alpha = np.pi / 2\n",
    "            r = Y\n",
    "        else:\n",
    "            alpha = 3 * np.pi / 2\n",
    "            r = -Y\n",
    "        return None, None, alpha, r\n",
    "    y_p = -x_p/m\n",
    "    alpha = np.arctan2(y_p, x_p)\n",
    "    r = np.sqrt(x_p**2 + y_p**2)\n",
    "    return m, b, alpha, r"
   ]
  },
  {
   "cell_type": "code",
   "execution_count": null,
   "id": "bcdd598c-4af1-4a70-b33b-bf278eb74a63",
   "metadata": {},
   "outputs": [],
   "source": [
    "x_cart = -1 * np.array(x_cart)\n",
    "y_cart = -1 * np.array(y_cart)"
   ]
  },
  {
   "cell_type": "code",
   "execution_count": null,
   "id": "485d9c01-83f7-4451-9131-b5ed7d7f7927",
   "metadata": {},
   "outputs": [],
   "source": [
    "m, b, alpha, r = fitLine(x_cart, y_cart)\n",
    "print(\"alpha = %.2f r = %.2f\" % (np.degrees(alpha), r))"
   ]
  },
  {
   "cell_type": "code",
   "execution_count": null,
   "id": "af0c13e7-48f0-43c2-97a9-dae690d5a36f",
   "metadata": {},
   "outputs": [],
   "source": [
    "# calculate line\n",
    "\n",
    "line = np.empty((2,2))\n",
    "line[0,0] = np.array(x_cart).min()\n",
    "line[1,0] = np.array(x_cart).max()\n",
    "line[0,1] = m * line[0,0] + b\n",
    "line[1,1] = m * line[1,0] + b"
   ]
  },
  {
   "cell_type": "code",
   "execution_count": null,
   "id": "bab910f2-24e7-4e06-ab85-7c861f59c3ec",
   "metadata": {},
   "outputs": [],
   "source": [
    "# caclulate perpendicular line\n",
    "x = -b*m/(m*m+1)\n",
    "y = -x/m"
   ]
  },
  {
   "cell_type": "code",
   "execution_count": null,
   "id": "be0f8121-375e-4552-a94b-59f7a80acb7d",
   "metadata": {},
   "outputs": [],
   "source": [
    "fig,ax = plt.subplots()\n",
    "plt.plot([0, x], [0, y], c = 'r')\n",
    "plt.plot(line[:, 0], line[:, 1])\n",
    "plt.scatter (x_cart, y_cart)\n",
    "ax.axis('equal')"
   ]
  },
  {
   "cell_type": "code",
   "execution_count": null,
   "id": "078747a9-6861-4046-87c0-770277698031",
   "metadata": {},
   "outputs": [],
   "source": [
    "cosA = np.cos(alpha);\n",
    "sinA = np.sin(alpha);\n",
    "\n",
    "xcosA = x_cart * cosA;\n",
    "ysinA = y_cart * sinA;\n"
   ]
  },
  {
   "cell_type": "code",
   "execution_count": null,
   "id": "17b66d53-77b3-40e4-804a-f4c2820f6aff",
   "metadata": {},
   "outputs": [],
   "source": [
    "m, b, alpha, r = fitLine([0, 1], [1, 0])\n",
    "np.testing.assert_allclose([alpha, r], [np.pi / 4, np.sqrt(0.5)])"
   ]
  },
  {
   "cell_type": "code",
   "execution_count": null,
   "id": "c9112e3f-847f-40a9-8477-fd3729317d09",
   "metadata": {},
   "outputs": [],
   "source": [
    "m, b, alpha, r = fitLine([-1, 0], [0, 1])\n",
    "np.testing.assert_allclose([alpha, r], [3 * np.pi / 4, np.sqrt(0.5)])"
   ]
  },
  {
   "cell_type": "code",
   "execution_count": null,
   "id": "c56a81f5-53da-44b2-80ce-9ac543e6a81b",
   "metadata": {},
   "outputs": [],
   "source": [
    "m, b, alpha, r = fitLine([-1, 1], [1, 1])\n",
    "np.testing.assert_allclose([alpha, r], [np.pi/2, 1.0])"
   ]
  },
  {
   "cell_type": "code",
   "execution_count": null,
   "id": "4469a291-0711-4031-8a97-57ec2a26508e",
   "metadata": {},
   "outputs": [],
   "source": [
    "m, b, alpha, r = fitLine([-1, 1], [-1, -1])\n",
    "np.testing.assert_allclose([alpha, r], [3 * np.pi / 2, 1.0])"
   ]
  },
  {
   "cell_type": "code",
   "execution_count": null,
   "id": "321bd4d3-4d74-45b9-ad13-be201a3b0b1e",
   "metadata": {},
   "outputs": [],
   "source": [
    "m, b, alpha, r = fitLine([1, 1], [1, -1])\n",
    "np.testing.assert_allclose([alpha, r], [0.0, 1.0])"
   ]
  },
  {
   "cell_type": "code",
   "execution_count": null,
   "id": "a128a2e5-7fbd-4288-81b3-de417d125ca1",
   "metadata": {},
   "outputs": [],
   "source": [
    "m, b, alpha, r = fitLine([-1, -1], [1, -1])\n",
    "np.testing.assert_allclose([alpha, r], [np.pi, 1.0])"
   ]
  },
  {
   "cell_type": "code",
   "execution_count": null,
   "id": "37c085e1-06f0-47f6-918c-673655e13c7d",
   "metadata": {},
   "outputs": [],
   "source": [
    "rng = np.random.default_rng(seed=43)\n",
    "for i in range(30):\n",
    "    alpha_expected = rng.uniform(low=-np.pi, high=np.pi)\n",
    "    r_expected = rng.uniform(low=1.0, high=2.0)\n",
    "    ts = np.arange(-1.0, 1.1, 0.1)\n",
    "    p = [r_expected * np.cos(alpha_expected), r_expected * np.sin(alpha_expected)]\n",
    "    v = [ -np.sin(alpha_expected), np.cos(alpha_expected)]\n",
    "    x_cart = p[0] + v[0] * ts\n",
    "    y_cart = p[1] + v[1] * ts\n",
    "    m, b, alpha, r = fitLine(x_cart, y_cart)\n",
    "    np.testing.assert_allclose([alpha, r], [alpha_expected, r_expected])\n",
    "    error = rng.uniform(low=-0.01, high=0.01, size=(2, len(ts)))\n",
    "    x_cart += error[0]\n",
    "    y_cart += error[1]\n",
    "    m, b, alpha, r = fitLine(x_cart, y_cart)\n",
    "    np.testing.assert_allclose([alpha, r], [alpha_expected, r_expected], atol=0.01)"
   ]
  },
  {
   "cell_type": "markdown",
   "id": "6ac530ed-db62-4227-a10f-a4c7f79d6f88",
   "metadata": {},
   "source": [
    "## Fitting a line with Polar Coordinates\n",
    "\n",
    "$\\sigma_i^2$ is the variance that models the uncertainty regarding distance $\\rho_i$ of a particular sensor measurement\n",
    "\n",
    "$$w_i = \\frac{1}{\\sigma_i^2}$$\n",
    "\n",
    "$$\\alpha = \\frac{1}{2}atan\\left(\\frac{\\sum w_i\\rho_i^2sin2\\theta_i-\\frac{2}{\\sum_{w_i}}\\sum\\sum w_i w_j \\rho_i \\rho_j cos\\theta_i sin\\theta_j}{\\sum w_i\\rho_i^2cos2\\theta_i-\\frac{1}{\\sum_{w_i}}\\sum\\sum w_i w_j \\rho_i \\rho_j cos(\\theta_i + \\theta_j)}\\right)$$\n",
    "\n",
    "$$r = \\frac{\\sum w_i \\theta_i cos(\\theta_i - \\alpha)}{\\sum w_i}$$"
   ]
  },
  {
   "cell_type": "markdown",
   "id": "e21d3aa7-328b-40c9-b5b3-23817050a35f",
   "metadata": {},
   "source": [
    "## ToDo\n",
    "c = np.cos(angles)\n",
    "c2 = np.cos(2 * angles)\n",
    "s = np.sin(angles)\n",
    "s2 = np.sin(2 * angles)\n",
    "r_square = np.array(values)**2\n",
    "N = angles.shape[0]\n",
    "y = r_square * s2 - 2/N * np.array(values) * c * np.array(values) * s\n",
    "x = r_square * c2 - csIJ / N;\n",
    "alpha = 0.5 * (atan2(y, x) + pi);\n",
    "r = rho * cos(theta - ones(size(theta)) * alpha)' / N;"
   ]
  }
 ],
 "metadata": {
  "kernelspec": {
   "display_name": "lidar_sim",
   "language": "python",
   "name": "lidar_sim"
  },
  "language_info": {
   "codemirror_mode": {
    "name": "ipython",
    "version": 3
   },
   "file_extension": ".py",
   "mimetype": "text/x-python",
   "name": "python",
   "nbconvert_exporter": "python",
   "pygments_lexer": "ipython3",
   "version": "3.11.4"
  }
 },
 "nbformat": 4,
 "nbformat_minor": 5
}
