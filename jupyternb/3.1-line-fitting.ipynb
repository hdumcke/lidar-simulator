{
 "cells": [
  {
   "cell_type": "markdown",
   "id": "f5e296c8-970d-4fec-a0bb-a4c28ef99e3a",
   "metadata": {},
   "source": [
    "# Problem Statement\n",
    "\n",
    "Assuming we have a set of points that all belong to a single line. By choosing two points we can calculate the characteristics of the line and assuming we have no statistical error we can prove that all other points are part of the line\n",
    "\n",
    "However we will always have measurement errors with Lidar, therefore we need to use tatistical methods to fit a line through the points that minimizez the error"
   ]
  },
  {
   "cell_type": "markdown",
   "id": "ead68c24-a347-4102-8087-edc2cfc9d5b7",
   "metadata": {},
   "source": [
    "## Ideal Situation"
   ]
  },
  {
   "cell_type": "code",
   "execution_count": 114,
   "id": "182af7a8-cbb7-471f-9e9d-6f98c0d54b4c",
   "metadata": {},
   "outputs": [],
   "source": [
    "%matplotlib inline\n",
    "import matplotlib.pyplot as plt\n",
    "import numpy as np\n",
    "from LidarSim.lidar_sim import LidarSimulator"
   ]
  },
  {
   "cell_type": "code",
   "execution_count": 115,
   "id": "dc36da09-07f1-4aef-8095-ab1c76b50543",
   "metadata": {},
   "outputs": [],
   "source": [
    "lidar = LidarSimulator(\"square.stl\")\n",
    "point = [500, 300]\n",
    "yaw = np.radians(0)\n",
    "plot_scan = lidar.get_lidar_points(point[0], point[1], yaw, theta=np.radians(90), view_range=60)\n",
    "triangles = lidar.get_map_triangles()"
   ]
  },
  {
   "cell_type": "code",
   "execution_count": 116,
   "id": "5bd06bcc-212f-4bf6-9681-dcb817c92aa4",
   "metadata": {},
   "outputs": [],
   "source": [
    "# get carthesian coordinates\n",
    "x = []\n",
    "y = []\n",
    "for alpha, r in plot_scan:\n",
    "    x.append(r * np.cos(alpha)+ point[0])\n",
    "    y.append(r * np.sin(alpha) + point[1])"
   ]
  },
  {
   "cell_type": "code",
   "execution_count": 117,
   "id": "af96cf99-805e-4938-90b7-90891a0c56d2",
   "metadata": {},
   "outputs": [
    {
     "data": {
      "image/png": "[encoded data removed]",
      "text/plain": [
       "<Figure size 640x480 with 1 Axes>"
      ]
     },
     "metadata": {},
     "output_type": "display_data"
    }
   ],
   "source": [
    "fig,ax = plt.subplots()\n",
    "plt.scatter (x, y)\n",
    "for t in triangles:\n",
    "    ax.fill(t[:, 0],t[:, 1],fill=False)"
   ]
  },
  {
   "cell_type": "code",
   "execution_count": 118,
   "id": "50f38776-0e04-4581-9763-6ee3ce84850d",
   "metadata": {},
   "outputs": [
    {
     "name": "stdout",
     "output_type": "stream",
     "text": [
      "mean: 0.00, median: 0.00, standard deviation: 0.00\n"
     ]
    }
   ],
   "source": [
    "m = (y[-1] - y[0]) / (x[-1] - x[0])\n",
    "b = y[-1] - m * x[-1]\n",
    "y_err = []\n",
    "for i in range(len(x)):\n",
    "    y_err.append(y[i] - m * x[i] - b)\n",
    "    \n",
    "y_err = np.array(y_err)\n",
    "print(\"mean: %0.2f, median: %0.2f, standard deviation: %0.2f\" % (np.mean(y_err), np.median(y_err), np.std(y_err)))"
   ]
  },
  {
   "cell_type": "markdown",
   "id": "8fe68835-3f87-4ba2-8948-008e486e1e0b",
   "metadata": {},
   "source": [
    "# With statistical error"
   ]
  },
  {
   "cell_type": "code",
   "execution_count": 119,
   "id": "8566a94b-a514-4640-bb1b-c7043dbbd016",
   "metadata": {},
   "outputs": [],
   "source": [
    "lidar = LidarSimulator(\"square.stl\", error=0.02)\n",
    "point = [500, 300]\n",
    "yaw = np.radians(0)\n",
    "plot_scan = lidar.get_lidar_points(point[0], point[1], yaw, theta=np.radians(90), view_range=60)\n",
    "triangles = lidar.get_map_triangles()"
   ]
  },
  {
   "cell_type": "code",
   "execution_count": 120,
   "id": "ae8dac3e-373d-4598-bd70-7e583290d005",
   "metadata": {},
   "outputs": [],
   "source": [
    "# get carthesian coordinates\n",
    "x = []\n",
    "y = []\n",
    "for alpha, r in plot_scan:\n",
    "    x.append(r * np.cos(alpha)+ point[0])\n",
    "    y.append(r * np.sin(alpha) + point[1])"
   ]
  },
  {
   "cell_type": "code",
   "execution_count": 121,
   "id": "0c82e800-cb76-4ae7-afba-f955ac641211",
   "metadata": {},
   "outputs": [
    {
     "data": {
      "image/png": "[encoded data removed]",
      "text/plain": [
       "<Figure size 640x480 with 1 Axes>"
      ]
     },
     "metadata": {},
     "output_type": "display_data"
    }
   ],
   "source": [
    "fig,ax = plt.subplots()\n",
    "plt.scatter (x, y)\n",
    "for t in triangles:\n",
    "    ax.fill(t[:, 0],t[:, 1],fill=False)"
   ]
  },
  {
   "cell_type": "code",
   "execution_count": 122,
   "id": "2097df7d-0d4d-4f48-a5d9-ef6e82d1e761",
   "metadata": {},
   "outputs": [
    {
     "name": "stdout",
     "output_type": "stream",
     "text": [
      "mean: 5.42, median: 4.74, standard deviation: 4.84\n"
     ]
    }
   ],
   "source": [
    "m = (y[-1] - y[0]) / (x[-1] - x[0])\n",
    "b = y[-1] - m * x[-1]\n",
    "y_err = []\n",
    "for i in range(len(x)):\n",
    "    y_err.append(y[i] - m * x[i] - b)\n",
    "    \n",
    "y_err = np.array(y_err)\n",
    "print(\"mean: %0.2f, median: %0.2f, standard deviation: %0.2f\" % (np.mean(y_err), np.median(y_err), np.std(y_err)))"
   ]
  },
  {
   "cell_type": "markdown",
   "id": "a684666f-b8dc-4a67-a0e0-fbac0d16e2dc",
   "metadata": {},
   "source": [
    "## Statistical Line Fitting"
   ]
  },
  {
   "cell_type": "code",
   "execution_count": 123,
   "id": "c0ad29c6-9292-41f0-94bd-2d818338f2f9",
   "metadata": {},
   "outputs": [],
   "source": [
    "model = np.polyfit (x, y, 1)"
   ]
  },
  {
   "cell_type": "code",
   "execution_count": 124,
   "id": "138ce025-3322-4ed2-9d83-0abbecbcaa86",
   "metadata": {},
   "outputs": [
    {
     "name": "stdout",
     "output_type": "stream",
     "text": [
      "mean: -0.00, median: -0.58, standard deviation: 4.71\n"
     ]
    }
   ],
   "source": [
    "y_err = []\n",
    "for i in range(len(x)):\n",
    "    y_err.append(y[i] - model[0] * x[i] - model[1])\n",
    "    \n",
    "y_err = np.array(y_err)\n",
    "print(\"mean: %0.2f, median: %0.2f, standard deviation: %0.2f\" % (np.mean(y_err), np.median(y_err), np.std(y_err)))"
   ]
  },
  {
   "cell_type": "code",
   "execution_count": 128,
   "id": "0cb53956-165c-4594-a2d6-590f891986f9",
   "metadata": {},
   "outputs": [
    {
     "data": {
      "text/plain": [
       "112.24528422956826"
      ]
     },
     "execution_count": 128,
     "metadata": {},
     "output_type": "execute_result"
    }
   ],
   "source": [
    "x[-1]"
   ]
  },
  {
   "cell_type": "code",
   "execution_count": 134,
   "id": "c45cc65e-00cb-4567-9a66-3d3746a999d9",
   "metadata": {},
   "outputs": [
    {
     "data": {
      "text/plain": [
       "[<matplotlib.lines.Line2D at 0x1272cc790>]"
      ]
     },
     "execution_count": 134,
     "metadata": {},
     "output_type": "execute_result"
    },
    {
     "data": {
      "image/png": "[encoded data removed]",
      "text/plain": [
       "<Figure size 640x480 with 1 Axes>"
      ]
     },
     "metadata": {},
     "output_type": "display_data"
    }
   ],
   "source": [
    "x_lin_reg = np.arange(x[-1], x[1], 10)\n",
    "predict = np.poly1d(model)\n",
    "y_lin_reg = predict(x_lin_reg)\n",
    "\n",
    "fig,ax = plt.subplots()\n",
    "plt.scatter (x, y)\n",
    "plt.plot (x_lin_reg, y_lin_reg, c = 'r')"
   ]
  }
 ],
 "metadata": {
  "kernelspec": {
   "display_name": "lidar_sim",
   "language": "python",
   "name": "lidar_sim"
  },
  "language_info": {
   "codemirror_mode": {
    "name": "ipython",
    "version": 3
   },
   "file_extension": ".py",
   "mimetype": "text/x-python",
   "name": "python",
   "nbconvert_exporter": "python",
   "pygments_lexer": "ipython3",
   "version": "3.11.4"
  }
 },
 "nbformat": 4,
 "nbformat_minor": 5
}
