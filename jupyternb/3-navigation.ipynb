{
 "cells": [
  {
   "cell_type": "markdown",
   "id": "b507b0b2-df84-4210-bdf1-504ec9709119",
   "metadata": {},
   "source": [
    "# Navigation\n",
    "\n",
    "We will study that will use the Lidar scan to navigate a robot through the environment"
   ]
  }
 ],
 "metadata": {
  "kernelspec": {
   "display_name": "Python 3 (ipykernel)",
   "language": "python",
   "name": "python3"
  },
  "language_info": {
   "codemirror_mode": {
    "name": "ipython",
    "version": 3
   },
   "file_extension": ".py",
   "mimetype": "text/x-python",
   "name": "python",
   "nbconvert_exporter": "python",
   "pygments_lexer": "ipython3",
   "version": "3.11.3"
  }
 },
 "nbformat": 4,
 "nbformat_minor": 5
}
