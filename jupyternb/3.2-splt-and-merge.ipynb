{
 "cells": [
  {
   "cell_type": "markdown",
   "id": "213008e7-fcf4-43e2-b408-6a77f8645a21",
   "metadata": {},
   "source": [
    "# Algorithm 1: Split-and-Merge\n",
    "\n",
    "**Data**: Set S consisting of all N points, a distance threshold d > 0\n",
    "\n",
    "**Result**: L, a list of sets of points each resembling a line \n",
    "```\n",
    "L ← (S), i ← 1;\n",
    "while i ≤ len(L) do\n",
    "  fit a line (r,α) to the set Li;\n",
    "  detect the point P ∈ Li with the maximum distance D to the line (r, α);\n",
    "  if D < d then \n",
    "    i←i+1\n",
    "  else\n",
    "    split Li at P into S1 and S2;\n",
    "    Li ← S1; Li+1 ← S2; \n",
    "  end\n",
    "end\n",
    "\n",
    "Merge collinear sets in L;\n",
    "```\n",
    "\n",
    "## Reference\n",
    "\n",
    "Roland Siegwart, Illah Nourbakhsh, and Davide Scaramuzza. Introduction to Autonomous Mobile Robots. MIT Press, 2nd edition, 2011."
   ]
  },
  {
   "cell_type": "code",
   "execution_count": null,
   "id": "c642431b-308b-4554-9f7f-892b7a86c24d",
   "metadata": {},
   "outputs": [],
   "source": [
    "%matplotlib inline\n",
    "import matplotlib.pyplot as plt\n",
    "import numpy as np\n",
    "import pickle\n",
    "from SplitAndMerge.split_and_merge import SplitAndMerge"
   ]
  },
  {
   "cell_type": "code",
   "execution_count": null,
   "id": "d0e41477-a670-451e-bf03-4cc7d4616d7e",
   "metadata": {},
   "outputs": [],
   "source": [
    "testdata = []\n",
    "for i in range(6):\n",
    "    with open('/Users/hdumcke/git/lidar-simulator/jupyternb/data/testLineExtraction%s.mat.pickle' % str(i+1), 'rb') as f:\n",
    "        testdata.append(pickle.load(f))"
   ]
  },
  {
   "cell_type": "code",
   "execution_count": null,
   "id": "6c328a2e-1e3f-4af7-8612-25844a1e0964",
   "metadata": {},
   "outputs": [],
   "source": [
    "fig, axs = plt.subplots(3, 2)\n",
    "for i in range(6):\n",
    "    row_index = int(i / 2)\n",
    "    column_index = i % 2\n",
    "    axs[row_index, column_index].axis('equal')\n",
    "    x = testdata[i]['rho'] * np.cos(testdata[i]['theta'])\n",
    "    y = testdata[i]['rho'] * np.sin(testdata[i]['theta'])\n",
    "    axs[row_index, column_index].scatter(x, y)"
   ]
  },
  {
   "cell_type": "code",
   "execution_count": null,
   "id": "701460fd-7a81-4673-8d38-0b89220f3a6e",
   "metadata": {},
   "outputs": [],
   "source": [
    "sam = SplitAndMerge(line_point_dist_threshold=0.004, min_points_per_segment=4, min_seg_length=0.01)\n",
    "\n",
    "fig, axs = plt.subplots(3, 2)\n",
    "for i in range(6):\n",
    "    row_index = int(i / 2)\n",
    "    column_index = i % 2\n",
    "    axs[row_index, column_index].axis('equal')\n",
    "    x = testdata[i]['rho'] * np.cos(testdata[i]['theta'])\n",
    "    y = testdata[i]['rho'] * np.sin(testdata[i]['theta'])\n",
    "    alpha_a, r_a, segend, seglen, pointIdx_a = sam.extractLines(x[0], y[0])\n",
    "    for j in range(segend.shape[0]):\n",
    "        axs[row_index, column_index].plot([segend[j,0], segend[j,2]], [segend[j,1], segend[j,3]])"
   ]
  },
  {
   "cell_type": "code",
   "execution_count": null,
   "id": "cdc93730-027c-4f89-ad27-488afd4fd658",
   "metadata": {},
   "outputs": [],
   "source": [
    "from LidarSim.lidar_sim import LidarSimulator\n",
    "lidar = LidarSimulator(\"rectangle.stl\")"
   ]
  },
  {
   "cell_type": "code",
   "execution_count": null,
   "id": "aedd6cfc-b294-4522-b885-7c692f866289",
   "metadata": {},
   "outputs": [],
   "source": [
    "point = [500, 300]\n",
    "yaw = np.radians(0)\n",
    "#plot_scan = lidar.get_lidar_points(point[0], point[1], yaw, theta=0, view_range=25)\n",
    "plot_scan = lidar.get_lidar_points(point[0], point[1], yaw)"
   ]
  },
  {
   "cell_type": "code",
   "execution_count": null,
   "id": "df6090fa-fdd5-49e8-bd46-8c7d70118fb8",
   "metadata": {},
   "outputs": [],
   "source": [
    "# get carthesian coordinates\n",
    "x = []\n",
    "y = []\n",
    "for alpha, r in plot_scan:\n",
    "    x.append(r * np.cos(alpha)+ point[0])\n",
    "    y.append(r * np.sin(alpha) + point[1])"
   ]
  },
  {
   "cell_type": "code",
   "execution_count": null,
   "id": "3496f7f9-50ea-45ff-ac5f-2094decd6941",
   "metadata": {},
   "outputs": [],
   "source": [
    "sam = SplitAndMerge(line_point_dist_threshold=0.005, min_points_per_segment=5)\n",
    "\n",
    "fig,ax = plt.subplots()\n",
    "ax.axis('equal')\n",
    "plt.arrow(point[0], point[1], 10 * np.cos(yaw), 10 * np.sin(yaw), width=3.0)\n",
    "#plt.scatter (x[211:329], y[211:329])\n",
    "alpha_a, r_a, segend, seglen, pointIdx_a = sam.extractLines(x, y)\n",
    "for j in range(segend.shape[0]):\n",
    "    ax.plot([segend[j,0], segend[j,2]], [segend[j,1], segend[j,3]])"
   ]
  },
  {
   "cell_type": "code",
   "execution_count": null,
   "id": "23de4ada-4de5-4a43-bd54-334f640f0b07",
   "metadata": {},
   "outputs": [],
   "source": [
    "import Utilities.utilities as utilities"
   ]
  },
  {
   "cell_type": "code",
   "execution_count": null,
   "id": "19e91060-58ae-4936-87be-24d7cf6566d6",
   "metadata": {},
   "outputs": [],
   "source": [
    "from LidarSim.lidar_sim import LidarSimulator\n",
    "lidar = LidarSimulator(\"maze.stl\")\n",
    "triangles = lidar.get_map_triangles()\n",
    "point = [25, 25]\n",
    "yaw = np.radians(90)"
   ]
  },
  {
   "cell_type": "code",
   "execution_count": null,
   "id": "5b4caedc-0340-4077-804d-970d06f485f6",
   "metadata": {},
   "outputs": [],
   "source": [
    "pose = [[25, 25, 90 ],\n",
    "        [25, 175, 90 ],\n",
    "        [25, 175, 0 ],\n",
    "        [75, 175, 0 ],\n",
    "        [75, 125, 0 ],\n",
    "        [25, 325, 90 ]]\n",
    "\n",
    "fig, axs = plt.subplots(3, 2, figsize=(15, 15))\n",
    "for i in range(6):\n",
    "    row_index = int(i / 2)\n",
    "    column_index = i % 2\n",
    "    axs[row_index, column_index].axis('equal')\n",
    "    point = pose[i][0:2]\n",
    "    yaw = np.radians(pose[i][2])\n",
    "    plot_scan = lidar.get_lidar_points(point[0], point[1], yaw)\n",
    "    # get carthesian coordinates\n",
    "    x = []\n",
    "    y = []\n",
    "    for alpha, r in plot_scan:\n",
    "        x.append(r * np.cos(alpha)+ point[0])\n",
    "        y.append(r * np.sin(alpha) + point[1])\n",
    "    \n",
    "    sam = SplitAndMerge(line_point_dist_threshold=0.005, min_points_per_segment=5)\n",
    "\n",
    "    axs[row_index, column_index].arrow(point[0], point[1], 10 * np.cos(yaw), 10 * np.sin(yaw), width=3.0)\n",
    "    alpha_a, r_a, segend, seglen, pointIdx_a = sam.extractLines(x, y)\n",
    "    for j in range(segend.shape[0]):\n",
    "        x_p, y_p = utilities.rotate_segend(segend[j], point, yaw)\n",
    "        axs[row_index, column_index].plot(x_p, y_p, 'r')\n",
    "    for t in triangles:\n",
    "        axs[row_index, column_index].fill(t[:, 0],t[:, 1],fill=False)"
   ]
  },
  {
   "cell_type": "code",
   "execution_count": null,
   "id": "55e8464b-3bd0-4a65-82ff-e19fe148c6bb",
   "metadata": {},
   "outputs": [],
   "source": [
    "from LidarSim.lidar_sim import LidarSimulator\n",
    "lidar = LidarSimulator(\"racetrack.stl\")\n",
    "triangles = lidar.get_map_triangles()\n",
    "yaw = np.radians(180)"
   ]
  },
  {
   "cell_type": "code",
   "execution_count": null,
   "id": "f7e0ea7d-749c-4899-8095-1c9932728b93",
   "metadata": {},
   "outputs": [],
   "source": [
    "pose = [[900, 50, 180 ],\n",
    "        [200, 50, 180 ],\n",
    "        [50, 100, 90 ],\n",
    "        [75, 200, 45 ],\n",
    "        [200, 250, -40 ],\n",
    "        [500, 500, 0 ]]\n",
    "\n",
    "fig, axs = plt.subplots(3, 2, figsize=(15, 15))\n",
    "for i in range(6):\n",
    "    row_index = int(i / 2)\n",
    "    column_index = i % 2\n",
    "    axs[row_index, column_index].axis('equal')\n",
    "    point = pose[i][0:2]\n",
    "    yaw = np.radians(pose[i][2])\n",
    "    plot_scan = lidar.get_lidar_points(point[0], point[1], yaw)\n",
    "    # get carthesian coordinates\n",
    "    x = []\n",
    "    y = []\n",
    "    for alpha, r in plot_scan:\n",
    "        x.append(r * np.cos(alpha)+ point[0])\n",
    "        y.append(r * np.sin(alpha) + point[1])\n",
    "    \n",
    "    sam = SplitAndMerge(line_point_dist_threshold=0.005, min_points_per_segment=5)\n",
    "\n",
    "    axs[row_index, column_index].arrow(point[0], point[1], 10 * np.cos(yaw), 10 * np.sin(yaw), width=3.0)\n",
    "    alpha_a, r_a, segend, seglen, pointIdx_a = sam.extractLines(x, y)\n",
    "    for j in range(segend.shape[0]):\n",
    "        x_p, y_p = utilities.rotate_segend(segend[j], point, yaw)\n",
    "        axs[row_index, column_index].plot(x_p, y_p, 'r')\n",
    "    for t in triangles:\n",
    "        axs[row_index, column_index].fill(t[:, 0],t[:, 1],fill=False)"
   ]
  }
 ],
 "metadata": {
  "kernelspec": {
   "display_name": "lidar_sim",
   "language": "python",
   "name": "lidar_sim"
  },
  "language_info": {
   "codemirror_mode": {
    "name": "ipython",
    "version": 3
   },
   "file_extension": ".py",
   "mimetype": "text/x-python",
   "name": "python",
   "nbconvert_exporter": "python",
   "pygments_lexer": "ipython3",
   "version": "3.11.4"
  }
 },
 "nbformat": 4,
 "nbformat_minor": 5
}
