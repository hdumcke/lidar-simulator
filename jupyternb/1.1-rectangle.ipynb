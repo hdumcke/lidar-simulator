{
 "cells": [
  {
   "cell_type": "markdown",
   "id": "0c0130a5-196d-411b-990c-2d89db518edc",
   "metadata": {},
   "source": [
    "# Square\n",
    "\n",
    "We use Build123d to create squae with four walls around"
   ]
  },
  {
   "cell_type": "code",
   "execution_count": 1,
   "id": "1449891f-9092-4296-bedf-715390d62d02",
   "metadata": {},
   "outputs": [
    {
     "name": "stdout",
     "output_type": "stream",
     "text": [
      "Overwriting auto display for cadquery Workplane and Shape\n"
     ]
    }
   ],
   "source": [
    "from jupyter_cadquery import show, open_viewer, set_defaults\n",
    "import cadquery as cq\n",
    "from build123d import *\n",
    "cv = open_viewer(\"Build123d\", cad_width=770, glass=True)\n",
    "set_defaults(edge_accuracy=0.0001)"
   ]
  },
  {
   "cell_type": "code",
   "execution_count": 2,
   "id": "06354f0e-c05f-45bf-a905-0518eba55af6",
   "metadata": {},
   "outputs": [],
   "source": [
    "length = 1000\n",
    "width = 551\n",
    "\n",
    "wall_hight = 20\n",
    "wall_thick = 2\n",
    "\n",
    "with BuildPart() as p:\n",
    "    Box(length, width, wall_hight)\n",
    "    Box(length - wall_thick, width - wall_thick, wall_hight, mode=Mode.SUBTRACT)"
   ]
  },
  {
   "cell_type": "code",
   "execution_count": 3,
   "id": "ae681a1d-75f6-44fb-830d-6337d05fcc4a",
   "metadata": {},
   "outputs": [],
   "source": [
    "assembly = Compound(children=[p.part])"
   ]
  },
  {
   "cell_type": "code",
   "execution_count": 4,
   "id": "5dcf729a-9332-4443-a272-c6f7f5dff122",
   "metadata": {},
   "outputs": [],
   "source": [
    "assembly"
   ]
  },
  {
   "cell_type": "code",
   "execution_count": 5,
   "id": "44d0aa7c-a570-4906-8b8f-611d74061b2d",
   "metadata": {},
   "outputs": [
    {
     "data": {
      "text/plain": [
       "True"
      ]
     },
     "execution_count": 5,
     "metadata": {},
     "output_type": "execute_result"
    }
   ],
   "source": [
    "assembly.export_stl('rectangle.stl')"
   ]
  }
 ],
 "metadata": {
  "kernelspec": {
   "display_name": "Python 3 (ipykernel)",
   "language": "python",
   "name": "python3"
  },
  "language_info": {
   "codemirror_mode": {
    "name": "ipython",
    "version": 3
   },
   "file_extension": ".py",
   "mimetype": "text/x-python",
   "name": "python",
   "nbconvert_exporter": "python",
   "pygments_lexer": "ipython3",
   "version": "3.9.17"
  }
 },
 "nbformat": 4,
 "nbformat_minor": 5
}
