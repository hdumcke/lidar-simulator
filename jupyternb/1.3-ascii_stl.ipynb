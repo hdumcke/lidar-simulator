{
 "cells": [
  {
   "cell_type": "markdown",
   "id": "a340721b-7255-4091-8ac0-21b8132a4fda",
   "metadata": {},
   "source": [
    "# Box\n",
    "\n",
    "We build a simple box that we can use as obstacle. The stl file is generate in ASCII format"
   ]
  },
  {
   "cell_type": "code",
   "execution_count": null,
   "id": "7bed50f0-b516-4fdd-828e-d2a6a93f7018",
   "metadata": {},
   "outputs": [],
   "source": [
    "import numpy as np\n",
    "from stl import mesh"
   ]
  },
  {
   "cell_type": "code",
   "execution_count": null,
   "id": "b9396fea-f575-41ea-9f38-a0d2cdd894d5",
   "metadata": {},
   "outputs": [],
   "source": [
    "length = 30\n",
    "width = 10\n",
    "hight = 20\n",
    "dimension = [length, width, hight]\n",
    "origin = [0, 0, 0]"
   ]
  },
  {
   "cell_type": "code",
   "execution_count": null,
   "id": "e7bf97cc-66f3-4b62-b64c-a3a6c4a778b9",
   "metadata": {},
   "outputs": [],
   "source": [
    "def generate_facet(normal, dim, origin):\n",
    "    str = generate_vertex(0, normal, dim, origin)\n",
    "    str += generate_vertex(1, normal, dim, origin)\n",
    "    return str\n",
    "\n",
    "def generate_vertex(part, normal, dim, origin):\n",
    "    vertex = []\n",
    "    str = (\"facet normal %s %s %s\\n\" % (normal[0], normal[1], normal[2]))\n",
    "    str += \"outer loop\\n\"\n",
    "    if normal[0] == 1 and part == 0:\n",
    "        vertex.append([dim[0] + origin[0], origin[1], dim[2] + origin[2]])\n",
    "        vertex.append([dim[0] + origin[0], origin[1], origin[2]])\n",
    "        vertex.append([dim[0] + origin[0], dim[1] + origin[1], origin[2]])\n",
    "    if normal[0] == 1 and part == 1:\n",
    "        vertex.append([dim[0] + origin[0], origin[1], dim[2] + origin[2]])\n",
    "        vertex.append([dim[0] + origin[0], dim[1] + origin[1], origin[2]])\n",
    "        vertex.append([dim[0] + origin[0], dim[1] + origin[1], dim[2] + origin[2]])\n",
    "    if normal[0] == -1 and part == 0:\n",
    "        vertex.append([origin[0], origin[1], dim[2] + origin[2]])\n",
    "        vertex.append([origin[0], dim[1] + origin[1], origin[2]])\n",
    "        vertex.append([origin[0], origin[1], origin[2]])\n",
    "    if normal[0] == -1 and part == 1:\n",
    "        vertex.append([origin[0], origin[1], dim[2] + origin[2]])\n",
    "        vertex.append([origin[0], dim[1] + origin[1], dim[2] + origin[2]])\n",
    "        vertex.append([origin[0], dim[1] + origin[1], origin[2]])\n",
    "\n",
    "    if normal[1] == 1 and part == 0:\n",
    "        vertex.append([dim[0] + origin[0], dim[1] + origin[1], dim[2] + origin[2]])\n",
    "        vertex.append([dim[0] + origin[0], dim[1] + origin[1], origin[2]])\n",
    "        vertex.append([origin[0], dim[1] + origin[1], origin[2]])\n",
    "    if normal[1] == 1 and part == 1:\n",
    "        vertex.append([dim[0] + origin[0], dim[1] + origin[1], dim[2] + origin[2]])\n",
    "        vertex.append([origin[0], dim[1] + origin[1], origin[2]])\n",
    "        vertex.append([origin[0], dim[1] + origin[1], dim[2] + origin[2]])\n",
    "    if normal[1] == -1 and part == 0:\n",
    "        vertex.append([dim[0] + origin[0], origin[1], dim[2] + origin[2]])\n",
    "        vertex.append([origin[0], origin[1], origin[2]])\n",
    "        vertex.append([dim[0] + origin[0], origin[1], origin[2]])\n",
    "    if normal[1] == -1 and part == 1:\n",
    "        vertex.append([dim[0] + origin[0], origin[1], dim[2] + origin[2]])\n",
    "        vertex.append([origin[0], origin[1], dim[2] + origin[2]])\n",
    "        vertex.append([origin[0], origin[1], origin[2]])\n",
    "\n",
    "    if normal[2] == 1 and part == 0:\n",
    "        vertex.append([dim[0] + origin[0], dim[1] + origin[1], dim[2] + origin[2]])\n",
    "        vertex.append([origin[0], dim[1] + origin[1], dim[2] + origin[2]])\n",
    "        vertex.append([origin[0], origin[1], dim[2] + origin[2]])\n",
    "    if normal[2] == 1 and part == 1:\n",
    "        vertex.append([dim[0] + origin[0], dim[1] + origin[1], dim[2] + origin[2]])\n",
    "        vertex.append([origin[0], origin[1], dim[2] + origin[2]])\n",
    "        vertex.append([dim[0] + origin[0], origin[1], dim[2] + origin[2]])\n",
    "    if normal[2] == -1 and part == 0:\n",
    "        vertex.append([dim[0] + origin[0], dim[1] + origin[1], origin[2]])\n",
    "        vertex.append([origin[0], origin[1], origin[2]])\n",
    "        vertex.append([origin[0], dim[1] + origin[1], origin[2]])\n",
    "    if normal[2] == -1 and part == 1:\n",
    "        vertex.append([dim[0] + origin[0], dim[1] + origin[1], origin[2]])\n",
    "        vertex.append([dim[0] + origin[0], origin[1], origin[2]])\n",
    "        vertex.append([origin[0], origin[1], origin[2]])\n",
    "        \n",
    "    for vert in vertex:\n",
    "        str += \"vertex %s %s %s\\n\" % (vert[0], vert[1], vert[2])\n",
    "    str += \"endloop\\n\"\n",
    "    str += \"endfacet\\n\"\n",
    "    return str"
   ]
  },
  {
   "cell_type": "code",
   "execution_count": null,
   "id": "50c9a18a-4618-405f-89dd-c6ccf7a3e6d3",
   "metadata": {},
   "outputs": [],
   "source": [
    "with open(\"box.stl\", \"w\") as fh:\n",
    "    fh.write(\"solid generated by lidarsim\\n\")\n",
    "    for i in range(6):\n",
    "        normal = [0, 0, 0]\n",
    "        normal[int(i/2)] = 1 - 2 * ((i + 1) % 2)\n",
    "        fh.write(generate_facet(normal, dimension, origin))\n",
    "    fh.write(\"endsolid PRO2STL version 1.0\\n\")"
   ]
  },
  {
   "cell_type": "code",
   "execution_count": null,
   "id": "8a82e0dd-35a0-4436-832a-99bf639c34a4",
   "metadata": {},
   "outputs": [],
   "source": [
    "test_mesh = mesh.Mesh.from_file(\"box.stl\")"
   ]
  },
  {
   "cell_type": "code",
   "execution_count": null,
   "id": "3c39ed07-dfed-42d5-9372-1ea26f22a3aa",
   "metadata": {},
   "outputs": [],
   "source": [
    "test_mesh.vectors"
   ]
  },
  {
   "cell_type": "markdown",
   "id": "4507b86e-dd01-4304-aa84-7e440b000bfe",
   "metadata": {},
   "source": [
    "## Robocup\n",
    "\n",
    "We create the border of the table for robocup"
   ]
  },
  {
   "cell_type": "code",
   "execution_count": null,
   "id": "f14ff73f-f0a9-4e96-8381-04e0d697fcc7",
   "metadata": {},
   "outputs": [],
   "source": [
    "with open(\"robocup.stl\", \"w\") as fh:\n",
    "    fh.write(\"solid generated by lidarsim\\n\")\n",
    "    dimension = [302, 1, 7]\n",
    "    origin = [0, 0, 0]\n",
    "    for i in range(6):\n",
    "        normal = [0, 0, 0]\n",
    "        normal[int(i/2)] = 1 - 2 * (i % 2)\n",
    "        fh.write(generate_facet(normal, dimension, origin))\n",
    "    dimension = [1, 200, 7]\n",
    "    origin = [0, 1, 0]\n",
    "    for i in range(6):\n",
    "        normal = [0, 0, 0]\n",
    "        normal[int(i/2)] = 1 - 2 * (i % 2)\n",
    "        fh.write(generate_facet(normal, dimension, origin))\n",
    "    origin = [301, 1, 0]\n",
    "    for i in range(6):\n",
    "        normal = [0, 0, 0]\n",
    "        normal[int(i/2)] = 1 - 2 * (i % 2)\n",
    "        fh.write(generate_facet(normal, dimension, origin))\n",
    "    origin = [0, 201, 0]\n",
    "    dimension = [302, 1, 7]\n",
    "    for i in range(6):\n",
    "        normal = [0, 0, 0]\n",
    "        normal[int(i/2)] = 1 - 2 * (i % 2)\n",
    "        fh.write(generate_facet(normal, dimension, origin))\n",
    "    fh.write(\"endsolid PRO2STL version 1.0\\n\")"
   ]
  },
  {
   "cell_type": "code",
   "execution_count": null,
   "id": "64e6aab7-5373-4e81-b009-858555d6cd79",
   "metadata": {},
   "outputs": [],
   "source": [
    "mesh.Mesh.from_file(\"robocup.stl\")"
   ]
  }
 ],
 "metadata": {
  "kernelspec": {
   "display_name": "lidar_sim",
   "language": "python",
   "name": "lidar_sim"
  },
  "language_info": {
   "codemirror_mode": {
    "name": "ipython",
    "version": 3
   },
   "file_extension": ".py",
   "mimetype": "text/x-python",
   "name": "python",
   "nbconvert_exporter": "python",
   "pygments_lexer": "ipython3",
   "version": "3.11.4"
  }
 },
 "nbformat": 4,
 "nbformat_minor": 5
}
