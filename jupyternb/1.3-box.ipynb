{
 "cells": [
  {
   "cell_type": "markdown",
   "id": "a340721b-7255-4091-8ac0-21b8132a4fda",
   "metadata": {},
   "source": [
    "# Box\n",
    "\n",
    "We build a simple box that we can use as obstacle"
   ]
  },
  {
   "cell_type": "code",
   "execution_count": 1,
   "id": "be34bb1b-d7d5-40ab-89c6-57bcaec94acc",
   "metadata": {},
   "outputs": [
    {
     "name": "stdout",
     "output_type": "stream",
     "text": [
      "Overwriting auto display for cadquery Workplane and Shape\n"
     ]
    }
   ],
   "source": [
    "from jupyter_cadquery import show, open_viewer, set_defaults\n",
    "import cadquery as cq\n",
    "from build123d import *\n",
    "cv = open_viewer(\"Build123d\", cad_width=770, glass=True)\n",
    "set_defaults(edge_accuracy=0.0001)"
   ]
  },
  {
   "cell_type": "code",
   "execution_count": 2,
   "id": "b9396fea-f575-41ea-9f38-a0d2cdd894d5",
   "metadata": {},
   "outputs": [],
   "source": [
    "length = 30\n",
    "width = 10\n",
    "hight = 20\n",
    "\n",
    "with BuildPart() as p:\n",
    "    Box(length, width, hight)"
   ]
  },
  {
   "cell_type": "code",
   "execution_count": 3,
   "id": "2c7c94a5-6f63-490b-ad93-6622b068f17a",
   "metadata": {},
   "outputs": [],
   "source": [
    "assembly = Compound(children=[p.part])"
   ]
  },
  {
   "cell_type": "code",
   "execution_count": 4,
   "id": "6cae58e9-0031-44ad-a988-f76c8db9dc79",
   "metadata": {},
   "outputs": [],
   "source": [
    "assembly"
   ]
  },
  {
   "cell_type": "code",
   "execution_count": 5,
   "id": "fff56eea-3e64-4077-9046-90a9d81265d2",
   "metadata": {},
   "outputs": [
    {
     "data": {
      "text/plain": [
       "True"
      ]
     },
     "execution_count": 5,
     "metadata": {},
     "output_type": "execute_result"
    }
   ],
   "source": [
    "assembly.export_stl('box.stl')"
   ]
  }
 ],
 "metadata": {
  "kernelspec": {
   "display_name": "Python 3 (ipykernel)",
   "language": "python",
   "name": "python3"
  },
  "language_info": {
   "codemirror_mode": {
    "name": "ipython",
    "version": 3
   },
   "file_extension": ".py",
   "mimetype": "text/x-python",
   "name": "python",
   "nbconvert_exporter": "python",
   "pygments_lexer": "ipython3",
   "version": "3.11.3"
  }
 },
 "nbformat": 4,
 "nbformat_minor": 5
}
