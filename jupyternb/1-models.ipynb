{
 "cells": [
  {
   "cell_type": "markdown",
   "id": "0c0130a5-196d-411b-990c-2d89db518edc",
   "metadata": {},
   "source": [
    "# Creating 3D Models\n",
    "\n",
    "This section contains a few example of generated environments using different tools. "
   ]
  }
 ],
 "metadata": {
  "kernelspec": {
   "display_name": "Python 3 (ipykernel)",
   "language": "python",
   "name": "python3"
  },
  "language_info": {
   "codemirror_mode": {
    "name": "ipython",
    "version": 3
   },
   "file_extension": ".py",
   "mimetype": "text/x-python",
   "name": "python",
   "nbconvert_exporter": "python",
   "pygments_lexer": "ipython3",
   "version": "3.11.3"
  }
 },
 "nbformat": 4,
 "nbformat_minor": 5
}
