{
 "cells": [
  {
   "cell_type": "markdown",
   "id": "df1583ed-7ae2-46fe-b32d-99b9092a1912",
   "metadata": {},
   "source": [
    "# Algorithm 5: Hough Transform\n",
    "\n",
    "```\n",
    "1. Initial: let A be a set of N points\n",
    "2. Initialize the accumulator array by setting all elements to 0 \n",
    "3. Construct values for the array\n",
    "4. Choose the element with max. votes V_max\n",
    "5. If V_max is less than a threshold,terminate\n",
    "6. Otherwise, determine the inliers\n",
    "7. Fit a line through the inliers and store the line\n",
    "8. Remove the inliers from the set, go to step 2\n",
    "```\n",
    "\n",
    "## Reference\n",
    "\n",
    "Roland Siegwart, Illah Nourbakhsh, and Davide Scaramuzza. Introduction to Autonomous Mobile Robots. MIT Press, 2nd edition, 2011."
   ]
  },
  {
   "cell_type": "code",
   "execution_count": null,
   "id": "4e2b7bc6-19b3-4559-96a8-cbfe4289073a",
   "metadata": {},
   "outputs": [],
   "source": [
    "%matplotlib inline\n",
    "import matplotlib.pyplot as plt\n",
    "import numpy as np\n",
    "import pickle\n",
    "from HoughTransform.hough_transform import HoughTransform"
   ]
  },
  {
   "cell_type": "code",
   "execution_count": null,
   "id": "ec048a35-44fc-452b-a80f-5528e34f1cd5",
   "metadata": {},
   "outputs": [],
   "source": [
    "testdata = []\n",
    "for i in range(6):\n",
    "    with open('/Users/hdumcke/git/lidar-simulator/jupyternb/data/testLineExtraction%s.mat.pickle' % str(i+1), 'rb') as f:\n",
    "        testdata.append(pickle.load(f))"
   ]
  },
  {
   "cell_type": "code",
   "execution_count": null,
   "id": "b4ebb11f-168b-4586-96d5-a678e185ba80",
   "metadata": {},
   "outputs": [],
   "source": [
    "fig, axs = plt.subplots(3, 2)\n",
    "for i in range(6):\n",
    "    row_index = int(i / 2)\n",
    "    column_index = i % 2\n",
    "    axs[row_index, column_index].axis('equal')\n",
    "    x = testdata[i]['rho'] * np.cos(testdata[i]['theta'])\n",
    "    y = testdata[i]['rho'] * np.sin(testdata[i]['theta'])\n",
    "    axs[row_index, column_index].scatter(x, y)"
   ]
  },
  {
   "cell_type": "code",
   "execution_count": null,
   "id": "eb62289b-b207-41c0-bccd-74a0378e77b1",
   "metadata": {},
   "outputs": [],
   "source": [
    "ht = HoughTransform()\n",
    "\n",
    "fig, axs = plt.subplots(3, 2)\n",
    "for i in range(6):\n",
    "    row_index = int(i / 2)\n",
    "    column_index = i % 2\n",
    "    axs[row_index, column_index].axis('equal')\n",
    "    x = testdata[i]['rho'] * np.cos(testdata[i]['theta'])\n",
    "    y = testdata[i]['rho'] * np.sin(testdata[i]['theta'])\n",
    "    segend, seglen, pointIdx_a = ht.extractLines(x[0], y[0])\n",
    "    for j in range(len(segend)):\n",
    "        axs[row_index, column_index].plot([segend[j][0], segend[j][2]], [segend[j][1], segend[j][3]])"
   ]
  },
  {
   "cell_type": "code",
   "execution_count": null,
   "id": "ead5ceec-4f26-40de-bf4b-492c03d87af2",
   "metadata": {},
   "outputs": [],
   "source": [
    "from LidarSim.lidar_sim import LidarSimulator\n",
    "lidar = LidarSimulator(\"rectangle.stl\")"
   ]
  },
  {
   "cell_type": "code",
   "execution_count": null,
   "id": "d74fd4bf-3d05-4169-90b2-68adda6fb430",
   "metadata": {},
   "outputs": [],
   "source": [
    "point = [500, 300]\n",
    "yaw = np.radians(0)\n",
    "#plot_scan = lidar.get_lidar_points(point[0], point[1], yaw, theta=0, view_range=25)\n",
    "plot_scan = lidar.get_lidar_points(point[0], point[1], yaw)"
   ]
  },
  {
   "cell_type": "code",
   "execution_count": null,
   "id": "347cb1e1-6220-46e4-979e-b813b9485280",
   "metadata": {},
   "outputs": [],
   "source": [
    "# get carthesian coordinates\n",
    "x = []\n",
    "y = []\n",
    "for alpha, r in plot_scan:\n",
    "    x.append(r * np.cos(alpha)+ point[0])\n",
    "    y.append(r * np.sin(alpha) + point[1])"
   ]
  },
  {
   "cell_type": "code",
   "execution_count": null,
   "id": "e2d324e6-42f0-497b-8249-6b731c55a9d7",
   "metadata": {},
   "outputs": [],
   "source": [
    "ht = HoughTransform(rho_samples=200000)\n",
    "\n",
    "fig,ax = plt.subplots()\n",
    "ax.axis('equal')\n",
    "plt.arrow(point[0], point[1], 10 * np.cos(yaw), 10 * np.sin(yaw), width=3.0)\n",
    "#plt.scatter (x[211:329], y[211:329])\n",
    "segend, seglen, pointIdx_a = ht.extractLines(x, y)\n",
    "for j in range(len(segend)):\n",
    "    ax.plot([segend[j][0], segend[j][2]], [segend[j][1], segend[j][3]])"
   ]
  },
  {
   "cell_type": "code",
   "execution_count": null,
   "id": "8015cbde-a9df-46de-8004-9adb9d22b7e5",
   "metadata": {},
   "outputs": [],
   "source": [
    "import Utilities.utilities as utilities"
   ]
  },
  {
   "cell_type": "code",
   "execution_count": null,
   "id": "5555a4d0-0ae9-42fb-abf7-9f2cb5b3d447",
   "metadata": {},
   "outputs": [],
   "source": [
    "from LidarSim.lidar_sim import LidarSimulator\n",
    "lidar = LidarSimulator(\"maze.stl\")\n",
    "triangles = lidar.get_map_triangles()\n",
    "point = [25, 25]\n",
    "yaw = np.radians(90)"
   ]
  },
  {
   "cell_type": "code",
   "execution_count": null,
   "id": "c7dccc00-d1ca-46f1-9bc9-d87dbec1dc1e",
   "metadata": {},
   "outputs": [],
   "source": [
    "pose = [[25, 25, 90 ],\n",
    "        [25, 175, 90 ],\n",
    "        [25, 175, 0 ],\n",
    "        [75, 175, 0 ],\n",
    "        [75, 125, 0 ],\n",
    "        [25, 325, 90 ]]\n",
    "\n",
    "fig, axs = plt.subplots(3, 2, figsize=(15, 15))\n",
    "for i in range(6):\n",
    "    row_index = int(i / 2)\n",
    "    column_index = i % 2\n",
    "    axs[row_index, column_index].axis('equal')\n",
    "    point = pose[i][0:2]\n",
    "    yaw = np.radians(pose[i][2])\n",
    "    plot_scan = lidar.get_lidar_points(point[0], point[1], yaw)\n",
    "    # get carthesian coordinates\n",
    "    x = []\n",
    "    y = []\n",
    "    for alpha, r in plot_scan:\n",
    "        x.append(r * np.cos(alpha)+ point[0])\n",
    "        y.append(r * np.sin(alpha) + point[1])\n",
    "    \n",
    "    ht = HoughTransform(rho_samples=200000)\n",
    "\n",
    "    axs[row_index, column_index].arrow(point[0], point[1], 10 * np.cos(yaw), 10 * np.sin(yaw), width=3.0)\n",
    "    segend, seglen, pointIdx_a = ht.extractLines(x, y)\n",
    "    for j in range(len(segend)):\n",
    "        x_p, y_p = utilities.rotate_segend(segend[j], point, yaw)\n",
    "        axs[row_index, column_index].plot(x_p, y_p, 'r')\n",
    "    for t in triangles:\n",
    "        axs[row_index, column_index].fill(t[:, 0],t[:, 1],fill=False)"
   ]
  },
  {
   "cell_type": "code",
   "execution_count": null,
   "id": "bffdc704-19ad-4ada-b821-71be9c6c7d7f",
   "metadata": {},
   "outputs": [],
   "source": [
    "from LidarSim.lidar_sim import LidarSimulator\n",
    "lidar = LidarSimulator(\"racetrack.stl\")\n",
    "triangles = lidar.get_map_triangles()\n",
    "yaw = np.radians(180)"
   ]
  },
  {
   "cell_type": "code",
   "execution_count": null,
   "id": "54a767e2-69c0-410e-8ebf-74ce8dc8aeb6",
   "metadata": {},
   "outputs": [],
   "source": [
    "pose = [[900, 50, 180 ],\n",
    "        [200, 50, 180 ],\n",
    "        [50, 100, 90 ],\n",
    "        [75, 200, 45 ],\n",
    "        [200, 250, -40 ],\n",
    "        [500, 500, 0 ]]\n",
    "\n",
    "fig, axs = plt.subplots(3, 2, figsize=(15, 15))\n",
    "for i in range(6):\n",
    "    row_index = int(i / 2)\n",
    "    column_index = i % 2\n",
    "    axs[row_index, column_index].axis('equal')\n",
    "    point = pose[i][0:2]\n",
    "    yaw = np.radians(pose[i][2])\n",
    "    plot_scan = lidar.get_lidar_points(point[0], point[1], yaw)\n",
    "    # get carthesian coordinates\n",
    "    x = []\n",
    "    y = []\n",
    "    for alpha, r in plot_scan:\n",
    "        x.append(r * np.cos(alpha)+ point[0])\n",
    "        y.append(r * np.sin(alpha) + point[1])\n",
    "    \n",
    "    segend, seglen, pointIdx_a = ht.extractLines(x, y)\n",
    "\n",
    "    axs[row_index, column_index].arrow(point[0], point[1], 10 * np.cos(yaw), 10 * np.sin(yaw), width=3.0)\n",
    "    for j in range(len(segend)):\n",
    "        x_p, y_p = utilities.rotate_segend(segend[j], point, yaw)\n",
    "        axs[row_index, column_index].plot(x_p, y_p, 'r')\n",
    "    for t in triangles:\n",
    "        axs[row_index, column_index].fill(t[:, 0],t[:, 1],fill=False)\n",
    "    \n",
    "    #axs[row_index, column_index].scatter (x, y)"
   ]
  },
  {
   "cell_type": "markdown",
   "id": "70b9eeed-6cf0-484e-82ba-339a61f8cbf5",
   "metadata": {},
   "source": [
    "## Issues with Hough Transform\n",
    "\n",
    "The Hough Transform finds infinite lines. If two segments are on the same line they are considered the same as we can see with the maze example\n",
    "\n",
    "The Hough Transform alows allows to detect circles. In the case of the race track we know that we are only looking for circles with a radius of either 50 or 150 which simplifies the parameter stace significantly.\n",
    "\n",
    "For the circle detection I used https://github.com/PavanGJ/Circle-Hough-Transform.git as inspiration\n",
    "\n",
    "More work would be required to make this usefull like filtering relevant arc of the circles and detecting smaller lines when exiting a circle"
   ]
  },
  {
   "cell_type": "code",
   "execution_count": null,
   "id": "513055dc-7597-4de7-b024-1db65336dcee",
   "metadata": {},
   "outputs": [],
   "source": [
    "pose = [[900, 50, 180 ],\n",
    "        [200, 50, 180 ],\n",
    "        [50, 100, 90 ],\n",
    "        [75, 200, 45 ],\n",
    "        [200, 250, -40 ],\n",
    "        [500, 500, 0 ]]\n",
    "\n",
    "circles = [[], [], [], [], [], []]\n",
    "\n",
    "fig, axs = plt.subplots(3, 2, figsize=(15, 15))\n",
    "for i in range(6):\n",
    "    row_index = int(i / 2)\n",
    "    column_index = i % 2\n",
    "    axs[row_index, column_index].axis('equal')\n",
    "    point = pose[i][0:2]\n",
    "    yaw = np.radians(pose[i][2])\n",
    "    plot_scan = lidar.get_lidar_points(point[0], point[1], yaw)\n",
    "    # get carthesian coordinates\n",
    "    x = []\n",
    "    y = []\n",
    "    for alpha, r in plot_scan:\n",
    "        x.append(r * np.cos(alpha)+ point[0])\n",
    "        y.append(r * np.sin(alpha) + point[1])\n",
    "    \n",
    "    segend, seglen, pointIdx_a = ht.extractCircles(x, y)\n",
    "\n",
    "    axs[row_index, column_index].arrow(point[0], point[1], 10 * np.cos(yaw), 10 * np.sin(yaw), width=3.0)\n",
    "    for j in range(len(segend)):\n",
    "        if len(segend[j]) == 3:\n",
    "            x_c, y_c = utilities.rotate_segend([segend[j][1], segend[j][2], 0, 0], point, yaw)\n",
    "            circles[i].append(plt.Circle((x_c[0],y_c[0]),segend[j][0],color=(1,0,0),fill=False))\n",
    "        else:    \n",
    "            x_p, y_p = utilities.rotate_segend(segend[j], point, yaw)\n",
    "            axs[row_index, column_index].plot(x_p, y_p, 'r')\n",
    "    for t in triangles:\n",
    "        axs[row_index, column_index].fill(t[:, 0],t[:, 1],fill=False)    \n",
    "    for c in circles[i]:\n",
    "        axs[row_index, column_index].add_patch(c)\n",
    "    \n",
    "    #axs[row_index, column_index].scatter (x, y)"
   ]
  }
 ],
 "metadata": {
  "kernelspec": {
   "display_name": "lidar_sim",
   "language": "python",
   "name": "lidar_sim"
  },
  "language_info": {
   "codemirror_mode": {
    "name": "ipython",
    "version": 3
   },
   "file_extension": ".py",
   "mimetype": "text/x-python",
   "name": "python",
   "nbconvert_exporter": "python",
   "pygments_lexer": "ipython3",
   "version": "3.11.4"
  }
 },
 "nbformat": 4,
 "nbformat_minor": 5
}
