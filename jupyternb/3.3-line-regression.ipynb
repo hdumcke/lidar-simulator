{
 "cells": [
  {
   "cell_type": "markdown",
   "id": "6b8fa6d3-ec73-4f1d-8318-156da6975ee4",
   "metadata": {},
   "source": [
    "# Algorithm 2: Line-Regression\n",
    "\n",
    "```\n",
    "1. Initialize sliding window size Nf \n",
    "2. Fit a line to every Nf consecutive points\n",
    "3. Compute a line fidelity array. Each element of the array contains the sum of Mahalanobis distances between every three adjacent windows\n",
    "4. Construct line segments by scanning the fidelity array for consecutive elements having values less than a threshold\n",
    "5. Merge overlapped line segments and recompute line parameters for each segment\n",
    "```\n",
    "\n",
    "## Reference\n",
    "\n",
    "Roland Siegwart, Illah Nourbakhsh, and Davide Scaramuzza. Introduction to Autonomous Mobile Robots. MIT Press, 2nd edition, 2011."
   ]
  },
  {
   "cell_type": "markdown",
   "id": "66e81860-f45a-421f-bd74-7cb8cb813734",
   "metadata": {},
   "source": [
    "## ToDo"
   ]
  },
  {
   "cell_type": "markdown",
   "id": "65113bc0-5419-49d2-8ed8-aae8fedd33c4",
   "metadata": {},
   "source": [
    "### Work in progress"
   ]
  },
  {
   "cell_type": "code",
   "execution_count": null,
   "id": "60bf53be-f065-4030-9012-85bc9a88b350",
   "metadata": {},
   "outputs": [],
   "source": [
    "%matplotlib inline\n",
    "import matplotlib.pyplot as plt\n",
    "import numpy as np\n",
    "import pickle\n",
    "from LineRegression.lineregression import LineRegression"
   ]
  },
  {
   "cell_type": "code",
   "execution_count": null,
   "id": "74388cb6-9118-4208-9cc1-20e47745ec43",
   "metadata": {},
   "outputs": [],
   "source": [
    "testdata = []\n",
    "for i in range(6):\n",
    "    with open('/Users/hdumcke/git/lidar-simulator/jupyternb/data/testLineExtraction%s.mat.pickle' % str(i+1), 'rb') as f:\n",
    "        testdata.append(pickle.load(f))"
   ]
  },
  {
   "cell_type": "code",
   "execution_count": null,
   "id": "0527a0d2-ec50-4cc9-ad74-fe9fa260aa64",
   "metadata": {},
   "outputs": [],
   "source": [
    "fig, axs = plt.subplots(3, 2)\n",
    "for i in range(6):\n",
    "    row_index = int(i / 2)\n",
    "    column_index = i % 2\n",
    "    axs[row_index, column_index].axis('equal')\n",
    "    x = testdata[i]['rho'] * np.cos(testdata[i]['theta'])\n",
    "    y = testdata[i]['rho'] * np.sin(testdata[i]['theta'])\n",
    "    axs[row_index, column_index].scatter(x, y)"
   ]
  },
  {
   "cell_type": "code",
   "execution_count": null,
   "id": "5aa79367-8587-4a56-a9de-256c01fcea0e",
   "metadata": {},
   "outputs": [],
   "source": [
    "lr = LineRegression()\n",
    "\n",
    "fig, axs = plt.subplots(3, 2)\n",
    "for i in range(6):\n",
    "    row_index = int(i / 2)\n",
    "    column_index = i % 2\n",
    "    axs[row_index, column_index].axis('equal')\n",
    "    x = testdata[i]['rho'] * np.cos(testdata[i]['theta'])\n",
    "    y = testdata[i]['rho'] * np.sin(testdata[i]['theta'])\n",
    "    segend, seglen, pointIdx_a = lr.extractLines(x[0], y[0])\n",
    "    for j in range(segend.shape[0]):\n",
    "        axs[row_index, column_index].plot([segend[j,0], segend[j,2]], [segend[j,1], segend[j,3]])"
   ]
  }
 ],
 "metadata": {
  "kernelspec": {
   "display_name": "lidar_sim",
   "language": "python",
   "name": "lidar_sim"
  },
  "language_info": {
   "codemirror_mode": {
    "name": "ipython",
    "version": 3
   },
   "file_extension": ".py",
   "mimetype": "text/x-python",
   "name": "python",
   "nbconvert_exporter": "python",
   "pygments_lexer": "ipython3",
   "version": "3.11.4"
  }
 },
 "nbformat": 4,
 "nbformat_minor": 5
}
