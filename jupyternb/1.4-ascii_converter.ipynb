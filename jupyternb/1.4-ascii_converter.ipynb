{
 "cells": [
  {
   "cell_type": "markdown",
   "id": "dfc7b331-3229-4f64-bfcd-16a9f01593db",
   "metadata": {},
   "source": [
    "# Maze Generation\n",
    "\n",
    "We will convert ASCII files as used in <a href=\"https://github.com/micromouseonline/mazefiles.git\" target=\"_blank\">mazefiles</a> into a suitable format"
   ]
  },
  {
   "cell_type": "code",
   "execution_count": null,
   "id": "75362a3d-f34a-4991-bb71-24e47eaaf5aa",
   "metadata": {},
   "outputs": [],
   "source": [
    "%matplotlib inline\n",
    "from stl import mesh\n",
    "import numpy as np\n",
    "import matplotlib.pyplot as plt"
   ]
  },
  {
   "cell_type": "code",
   "execution_count": null,
   "id": "543c1ebc-17ea-45ba-84cc-82a9ac0452de",
   "metadata": {},
   "outputs": [],
   "source": [
    "def read_maze(file_name):\n",
    "    WH_BIT = 1\n",
    "    WV_BIT = 2\n",
    "\n",
    "    with open(file_name, 'r') as fh:\n",
    "        txt = fh.read()\n",
    "        \n",
    "    txt = txt.splitlines()\n",
    "    post_char = txt[0][0]\n",
    "\n",
    "    wall_horizontal = txt[::2]\n",
    "    wall_horizontal = [\n",
    "        [\n",
    "            1 if wall == '---' else 0\n",
    "            for wall in row.lstrip(post_char).split(post_char)\n",
    "        ]\n",
    "        for row in wall_horizontal\n",
    "    ]\n",
    "    wall_horizontal = np.array(wall_horizontal).astype('uint8')\n",
    "    \n",
    "    wall_vertical = txt[1::2]\n",
    "    wall_vertical = [\n",
    "        [1 if wall == '|' else 0 for wall in column[::4]]\n",
    "        for column in wall_vertical\n",
    "    ]\n",
    "    wall_vertical.append([0] * 17)\n",
    "    wall_vertical = np.array(wall_vertical).astype('uint8')\n",
    "    \n",
    "    wall_horizontal *= WH_BIT\n",
    "    wall_vertical *= WV_BIT\n",
    "    \n",
    "    return wall_horizontal + wall_vertical"
   ]
  },
  {
   "cell_type": "code",
   "execution_count": null,
   "id": "eacdc3b7-1880-42e8-a781-160ce6f1c388",
   "metadata": {},
   "outputs": [],
   "source": [
    "m = read_maze('maze_in/maze.txt')"
   ]
  },
  {
   "cell_type": "code",
   "execution_count": null,
   "id": "b07ba6bf-f436-4740-8376-17cb51a10b32",
   "metadata": {},
   "outputs": [],
   "source": [
    "for line in m:\n",
    "    l1 = ''\n",
    "    l2 = ''\n",
    "    for l in line:\n",
    "        if l & 1:\n",
    "            l1 += 'o---'\n",
    "        else:\n",
    "            l1 += 'o   '\n",
    "        if l & 2:\n",
    "            l2 += '|   '\n",
    "        else:\n",
    "            l2 += '    '\n",
    "    print(l1)\n",
    "    print(l2)"
   ]
  },
  {
   "cell_type": "code",
   "execution_count": null,
   "id": "9ff2c006-58b8-4127-97e4-34eebd5fc75b",
   "metadata": {},
   "outputs": [],
   "source": [
    "def find_walls(maze):\n",
    "    index_y = 0\n",
    "    is_wall_y = [False] * maze.shape[0]\n",
    "    wall_y_start = [None] * maze.shape[0]\n",
    "    walls = []\n",
    "    for line in maze:\n",
    "        is_wall_x = False\n",
    "        index_x = 0\n",
    "        for l in line:\n",
    "            if l & 1:\n",
    "                if not is_wall_x:\n",
    "                    wall_x_start = [index_x, index_y]\n",
    "                    is_wall_x = True\n",
    "            else:\n",
    "                if is_wall_x:\n",
    "                    wall_x_end = [index_x, index_y]\n",
    "                    walls.append([wall_x_start, wall_x_end])\n",
    "                    is_wall_x = False\n",
    "            if l & 2:\n",
    "                if not is_wall_y[index_x]:\n",
    "                    wall_y_start[index_x] = [index_x, index_y]\n",
    "                    is_wall_y[index_x] = True\n",
    "            else:\n",
    "                if is_wall_y[index_x]:\n",
    "                    wall_y_end = [index_x, index_y]\n",
    "                    walls.append([wall_y_start[index_x], wall_y_end])\n",
    "                    is_wall_y[index_x] = False\n",
    "            index_x += 1\n",
    "        index_y += 1\n",
    "    return np.array(walls)"
   ]
  },
  {
   "cell_type": "code",
   "execution_count": null,
   "id": "92b2b72d-8c9e-4632-9d48-e959a2220fbe",
   "metadata": {},
   "outputs": [],
   "source": [
    "walls = find_walls(m)"
   ]
  },
  {
   "cell_type": "code",
   "execution_count": null,
   "id": "d79bfe60-6f5e-4e51-a69d-2e9ea55e798a",
   "metadata": {},
   "outputs": [],
   "source": [
    "data = np.zeros(2*walls.shape[0], dtype=mesh.Mesh.dtype)\n",
    "index = 0\n",
    "for wall in walls:\n",
    "    y_dim = 16\n",
    "    space = 50\n",
    "    if wall[0, 0] == wall[1, 0]:\n",
    "        p0 = [space * wall[0, 0], space * (y_dim - wall[0, 1]), 0]\n",
    "        p1 = [space * wall[1, 0], space * (y_dim - wall[1, 1]), 0]\n",
    "        p2 = [space * wall[0, 0], space * (y_dim - wall[0, 1]) + 2, 0]\n",
    "        p3 = [space * wall[1, 0], space * (y_dim - wall[1, 1]) + 2, 0]\n",
    "    else:\n",
    "        p0 = [space * wall[0, 0], space * (y_dim - wall[0, 1]), 0]\n",
    "        p1 = [space * wall[1, 0], space * (y_dim - wall[1, 1]), 0]\n",
    "        p2 = [space * wall[0, 0] + 2, space * (y_dim - wall[0, 1]), 0]\n",
    "        p3 = [space * wall[1, 0] + 2, space * (y_dim - wall[1, 1]), 0]\n",
    "    data['vectors'][index] = np.array([p0, p1, p2])\n",
    "    data['vectors'][index + 1] = np.array([p1, p2, p3])\n",
    "    index += 2\n",
    "    \n",
    "env = mesh.Mesh(data, remove_empty_areas=False)\n",
    "env.update_units()"
   ]
  },
  {
   "cell_type": "code",
   "execution_count": null,
   "id": "89626b95-55b1-4dec-ab46-49ef0073865a",
   "metadata": {},
   "outputs": [],
   "source": [
    "triangles = []\n",
    "for t in env.vectors:\n",
    "    triangles.append(t)"
   ]
  },
  {
   "cell_type": "code",
   "execution_count": null,
   "id": "f2f3283f-d1db-4e77-83a7-3c37a869802b",
   "metadata": {},
   "outputs": [],
   "source": [
    "fig, ax = plt.subplots(1, 1)\n",
    "ax.axis('equal')\n",
    "for t in triangles:\n",
    "    ax.fill(t[:, 0],t[:, 1],fill=False)"
   ]
  },
  {
   "cell_type": "code",
   "execution_count": null,
   "id": "7eea8331-9f2b-477b-8b2f-4460f7304ee5",
   "metadata": {},
   "outputs": [],
   "source": [
    "data = np.zeros(12*walls.shape[0], dtype=mesh.Mesh.dtype)\n",
    "index = 0\n",
    "for wall in walls:\n",
    "    y_dim = 16\n",
    "    space = 50\n",
    "    if wall[0, 0] == wall[1, 0]:\n",
    "        p0 = [space * wall[0, 0], space * (y_dim - wall[0, 1]), 0]\n",
    "        p1 = [space * wall[1, 0], space * (y_dim - wall[1, 1]), 0]\n",
    "        p2 = [space * wall[0, 0] + 2, space * (y_dim - wall[0, 1]), 0]\n",
    "        p3 = [space * wall[1, 0] + 2, space * (y_dim - wall[1, 1]), 0]\n",
    "        p4 = [space * wall[0, 0], space * (y_dim - wall[0, 1]), 20]\n",
    "        p5 = [space * wall[1, 0], space * (y_dim - wall[1, 1]), 20]\n",
    "        p6 = [space * wall[0, 0] + 2, space * (y_dim - wall[0, 1]), 20]\n",
    "        p7 = [space * wall[1, 0] + 2, space * (y_dim - wall[1, 1]), 20]\n",
    "    else:\n",
    "        p0 = [space * wall[0, 0], space * (y_dim - wall[0, 1]), 0]\n",
    "        p1 = [space * wall[1, 0], space * (y_dim - wall[1, 1]), 0]\n",
    "        p2 = [space * wall[0, 0], space * (y_dim - wall[0, 1]) + 2, 0]\n",
    "        p3 = [space * wall[1, 0], space * (y_dim - wall[1, 1]) + 2, 0]\n",
    "        p4 = [space * wall[0, 0], space * (y_dim - wall[0, 1]), 20]\n",
    "        p5 = [space * wall[1, 0], space * (y_dim - wall[1, 1]), 20]\n",
    "        p6 = [space * wall[0, 0], space * (y_dim - wall[0, 1]) + 2, 20]\n",
    "        p7 = [space * wall[1, 0], space * (y_dim - wall[1, 1]) + 2, 20]\n",
    "    data['vectors'][index] = np.array([p1, p0, p2])\n",
    "    data['vectors'][index + 1] = np.array([p1, p2, p3])\n",
    "    data['vectors'][index + 2] = np.array([p4, p5, p6])\n",
    "    data['vectors'][index + 3] = np.array([p6, p5, p7])\n",
    "    data['vectors'][index + 4] = np.array([p0, p1, p4])\n",
    "    data['vectors'][index + 5] = np.array([p4, p1, p5])\n",
    "    data['vectors'][index + 6] = np.array([p3, p2, p6])\n",
    "    data['vectors'][index + 7] = np.array([p3, p6, p7])\n",
    "    data['vectors'][index + 8] = np.array([p2, p0, p4])\n",
    "    data['vectors'][index + 9] = np.array([p2, p4, p6])\n",
    "    data['vectors'][index + 10] = np.array([p1, p3, p5])\n",
    "    data['vectors'][index + 11] = np.array([p5, p3, p7])\n",
    "    index += 12\n",
    "    \n",
    "env = mesh.Mesh(data, remove_empty_areas=False)\n",
    "env.update_units()"
   ]
  },
  {
   "cell_type": "code",
   "execution_count": null,
   "id": "0f4a6a30-a5e9-471b-950c-980cacbb5d0c",
   "metadata": {},
   "outputs": [],
   "source": [
    "env.save('maze.stl')"
   ]
  }
 ],
 "metadata": {
  "kernelspec": {
   "display_name": "Python 3 (ipykernel)",
   "language": "python",
   "name": "python3"
  },
  "language_info": {
   "codemirror_mode": {
    "name": "ipython",
    "version": 3
   },
   "file_extension": ".py",
   "mimetype": "text/x-python",
   "name": "python",
   "nbconvert_exporter": "python",
   "pygments_lexer": "ipython3",
   "version": "3.9.17"
  }
 },
 "nbformat": 4,
 "nbformat_minor": 5
}
