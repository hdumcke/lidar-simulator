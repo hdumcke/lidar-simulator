{
 "cells": [
  {
   "cell_type": "markdown",
   "id": "8e8e8fcd-9668-45e9-b544-1e8b9e82215a",
   "metadata": {},
   "source": [
    "# Show All Models\n",
    "\n",
    "This requires that the python module LidarSim is installed "
   ]
  },
  {
   "cell_type": "code",
   "execution_count": null,
   "id": "f39a7ecb-c8e9-41a0-b275-d46c1a038f2e",
   "metadata": {},
   "outputs": [],
   "source": [
    "from LidarSim.lidar_sim import LidarSimulator\n",
    "import matplotlib.pyplot as plt\n",
    "%matplotlib inline"
   ]
  },
  {
   "cell_type": "code",
   "execution_count": null,
   "id": "225d4d3f-532b-48a0-aca3-8c1f6b570744",
   "metadata": {},
   "outputs": [],
   "source": [
    "import glob\n",
    "all_models = glob.glob(\"*.stl\")"
   ]
  },
  {
   "cell_type": "code",
   "execution_count": null,
   "id": "4ebc95ff-3b03-4a03-9321-1e97d0eaae04",
   "metadata": {},
   "outputs": [],
   "source": [
    "columns = 2\n",
    "rows = int(len(all_models) / columns)\n",
    "if len(all_models) % columns:\n",
    "    rows += 1"
   ]
  },
  {
   "cell_type": "code",
   "execution_count": null,
   "id": "788e3913-068d-41cf-be2d-e49ef935ba4b",
   "metadata": {},
   "outputs": [],
   "source": [
    "fig, axs = plt.subplots(rows, columns)\n",
    "for i in range(len(all_models)):\n",
    "    row_index = int(i / columns)\n",
    "    column_index = i % columns\n",
    "    lidar = LidarSimulator(all_models[i])\n",
    "    triangles = lidar.get_map_triangles()\n",
    "    axs[row_index, column_index].axis('equal')\n",
    "    for t in triangles:\n",
    "        axs[row_index, column_index].fill(t[:, 0],t[:, 1],fill=False)"
   ]
  }
 ],
 "metadata": {
  "kernelspec": {
   "display_name": "lidar_sim",
   "language": "python",
   "name": "lidar_sim"
  },
  "language_info": {
   "codemirror_mode": {
    "name": "ipython",
    "version": 3
   },
   "file_extension": ".py",
   "mimetype": "text/x-python",
   "name": "python",
   "nbconvert_exporter": "python",
   "pygments_lexer": "ipython3",
   "version": "3.11.4"
  }
 },
 "nbformat": 4,
 "nbformat_minor": 5
}
