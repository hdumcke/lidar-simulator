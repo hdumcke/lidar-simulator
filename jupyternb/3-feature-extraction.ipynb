{
 "cells": [
  {
   "cell_type": "markdown",
   "id": "0d235afb-7491-462d-82f2-b9a272f05399",
   "metadata": {},
   "source": [
    "# Feature Extraction from Lidar\n",
    "\n",
    "We analyze the data from the Lidar to find simple geometric features like lines or circles.\n",
    "\n",
    "We must answer questions like:\n",
    "\n",
    "* how many lines are there\n",
    "* which point belongs to which line\n",
    "* what are the characteristics of this line"
   ]
  },
  {
   "cell_type": "markdown",
   "id": "56063dae-eb3e-41df-a196-a8a95f6dd2d0",
   "metadata": {},
   "source": [
    "## Field-of-View (FoV)\n",
    "\n",
    "Our simulated Lidar provides a view of 360 degrees, to extract fearures we will restrict or fied of view to a direction $\\theta$ and a range specified in degrees. Our FoV if then $\\theta$ plus/minus the range"
   ]
  },
  {
   "cell_type": "code",
   "execution_count": null,
   "id": "4a072e34-dbf6-446f-8a53-8679791a69fc",
   "metadata": {},
   "outputs": [],
   "source": [
    "%matplotlib inline\n",
    "import matplotlib.pyplot as plt\n",
    "import numpy as np\n",
    "from LidarSim.lidar_sim import LidarSimulator"
   ]
  },
  {
   "cell_type": "code",
   "execution_count": null,
   "id": "3fd81226-3026-4585-b416-c8bd4935dc52",
   "metadata": {},
   "outputs": [],
   "source": [
    "lidar = LidarSimulator(\"rectangle.stl\")\n",
    "point = [500, 300]\n",
    "yaw = np.radians(0)\n",
    "plot_scan = lidar.get_lidar_points(point[0], point[1], yaw)\n",
    "triangles = lidar.get_env_triangles(point[0], point[1], yaw)"
   ]
  },
  {
   "cell_type": "code",
   "execution_count": null,
   "id": "81305e32-fc63-4df0-9f32-02bdc442f196",
   "metadata": {},
   "outputs": [],
   "source": [
    "def get_fov(theta, view_range, scan, resolution):\n",
    "    idx = np.searchsorted(scan[:, 0], theta) - 1\n",
    "    idx_max = int(idx + view_range/resolution)\n",
    "    idx_min = int(idx - view_range/resolution)\n",
    "    if idx_max <= scan.shape[0] and idx_min >=0:\n",
    "        return scan[idx_min:idx_max]\n",
    "    if idx_min < 0:\n",
    "        return np.roll(scan, -idx_min, axis = 0)[:2*int(view_range/resolution)]\n",
    "    if idx_max > scan.shape[0]:\n",
    "        return np.roll(scan, -(idx_max - scan.shape[0]), axis = 0)[-2*int(view_range/resolution):]"
   ]
  },
  {
   "cell_type": "code",
   "execution_count": null,
   "id": "0a64413c-c001-437c-a67b-4c1bff41574e",
   "metadata": {},
   "outputs": [],
   "source": [
    "fov = get_fov(np.radians(14), 15, plot_scan, lidar.resolution)"
   ]
  },
  {
   "cell_type": "code",
   "execution_count": null,
   "id": "f638fb7f-d517-4e12-8693-e97bfd19afbf",
   "metadata": {},
   "outputs": [],
   "source": [
    "fig, ax = plt.subplots(subplot_kw={'projection': 'polar'})\n",
    "ax.scatter(fov[:, 0], fov[:, 1], s=3.0)\n",
    "for t in triangles:\n",
    "    ax.fill(t[:, 0],t[:, 1],fill=False)\n",
    "ax.set_rmax(600)\n",
    "ax.set_rticks([250, 500])  # Less radial ticks\n",
    "ax.grid(True)\n",
    "\n",
    "ax.set_title(\"Lidar Scann with FoV\", va='bottom')"
   ]
  },
  {
   "cell_type": "markdown",
   "id": "6eea2d78-d979-4c74-84e6-670d573c6805",
   "metadata": {},
   "source": [
    "## FoV and LidarSimulator module\n",
    "\n",
    "This is an example how to set the Fow when calling the LidarSimulator module"
   ]
  },
  {
   "cell_type": "code",
   "execution_count": null,
   "id": "942f17b9-e9dd-434b-9b2e-45e8261f4c67",
   "metadata": {},
   "outputs": [],
   "source": [
    "lidar = LidarSimulator(\"rectangle.stl\")\n",
    "point = [500, 300]\n",
    "yaw = np.radians(0)\n",
    "plot_scan = lidar.get_lidar_points(point[0], point[1], yaw, theta=np.radians(90), view_range=30)\n",
    "triangles = lidar.get_env_triangles(point[0], point[1], yaw)"
   ]
  },
  {
   "cell_type": "code",
   "execution_count": null,
   "id": "6f0a50ce-63c5-4e24-acaf-cb28686c4907",
   "metadata": {},
   "outputs": [],
   "source": [
    "fig, ax = plt.subplots(subplot_kw={'projection': 'polar'})\n",
    "ax.scatter(plot_scan[:, 0], plot_scan[:, 1], s=3.0)\n",
    "for t in triangles:\n",
    "    ax.fill(t[:, 0],t[:, 1],fill=False)\n",
    "ax.set_rmax(600)\n",
    "ax.set_rticks([250, 500])  # Less radial ticks\n",
    "ax.grid(True)\n",
    "\n",
    "ax.set_title(\"Lidar Scann with FoV\", va='bottom')"
   ]
  }
 ],
 "metadata": {
  "kernelspec": {
   "display_name": "lidar_sim",
   "language": "python",
   "name": "lidar_sim"
  },
  "language_info": {
   "codemirror_mode": {
    "name": "ipython",
    "version": 3
   },
   "file_extension": ".py",
   "mimetype": "text/x-python",
   "name": "python",
   "nbconvert_exporter": "python",
   "pygments_lexer": "ipython3",
   "version": "3.11.4"
  }
 },
 "nbformat": 4,
 "nbformat_minor": 5
}
