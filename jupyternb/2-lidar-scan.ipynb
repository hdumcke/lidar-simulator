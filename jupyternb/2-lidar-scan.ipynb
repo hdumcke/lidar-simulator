{
 "cells": [
  {
   "cell_type": "markdown",
   "id": "eaac6719-6f3a-434d-be8d-127c34fac232",
   "metadata": {},
   "source": [
    "# Simulating a Lidar\n",
    "\n",
    "We read our stl file using numpy-stl.\n",
    "\n",
    "We select all triangles in the xy plane to get a 2D projection\n",
    "\n",
    "We then place the robot with the lidar on the map using xy coordinates and yaw as the orientation. We transform the points of the map to the lidar coordinate system and then convert the carthesian coordinate system to a polar coordinate system. We use a simplified robot that consists of only a point \n",
    "\n",
    "We sweep a full circle around the Lidar in segments which size depends on the Lidar resolution and we retain the closest point to construct our lidar scan."
   ]
  },
  {
   "cell_type": "code",
   "execution_count": null,
   "id": "5e09cd44-b681-40ce-aadd-2e52a9483ee0",
   "metadata": {},
   "outputs": [],
   "source": [
    "%matplotlib inline\n",
    "import numpy as np\n",
    "from stl import mesh\n",
    "import matplotlib.pyplot as plt"
   ]
  },
  {
   "cell_type": "code",
   "execution_count": null,
   "id": "6ea2e729-14c7-4193-a7dc-46fec6cfdb90",
   "metadata": {},
   "outputs": [],
   "source": [
    "min_range = 2.0\n",
    "max_range = 12000.0\n",
    "resolution = 1 # in degrees"
   ]
  },
  {
   "cell_type": "code",
   "execution_count": null,
   "id": "b25f8c20-b027-4e4e-8fb3-fa09291c90f6",
   "metadata": {},
   "outputs": [],
   "source": [
    "#simulated_environment = 'racetrack'\n",
    "simulated_environment = 'square'\n",
    "#simulated_environment = 'test'"
   ]
  },
  {
   "cell_type": "code",
   "execution_count": null,
   "id": "bb3cd7b8-a137-4179-a356-fa26fdbff039",
   "metadata": {},
   "outputs": [],
   "source": [
    "if simulated_environment == 'test':\n",
    "    data = np.zeros(3, dtype=mesh.Mesh.dtype)\n",
    "    data['vectors'][0] = np.array([[100., 500., 0],\n",
    "                                   [100., 100., 0],\n",
    "                                   [  0.,   0., 0]])\n",
    "    data['vectors'][1] = np.array([[ 900., 100., 0],\n",
    "                                   [1000.,   0., 0],\n",
    "                                   [   0.,   0., 0]])\n",
    "    data['vectors'][2] = np.array([[1000., 500., 0],\n",
    "                                   [1000., 200., 0],\n",
    "                                   [ 100., 500., 0]])\n",
    "    env = mesh.Mesh(data, remove_empty_areas=False)\n",
    "    env.update_units()\n",
    "else:\n",
    "    env = mesh.Mesh.from_file('%s.stl' % simulated_environment)"
   ]
  },
  {
   "cell_type": "markdown",
   "id": "b32ba245-7d5e-45bb-b235-060896a88c9c",
   "metadata": {},
   "source": [
    "## Adjust coordinate system"
   ]
  },
  {
   "cell_type": "code",
   "execution_count": null,
   "id": "ed095839-f8c4-436c-8692-262024779b3e",
   "metadata": {},
   "outputs": [],
   "source": [
    "env.x = env.x - env.x.min()\n",
    "env.y = env.y - env.y.min()"
   ]
  },
  {
   "cell_type": "markdown",
   "id": "3a7f227c-6e49-4cef-8ab6-1bae92fe50ad",
   "metadata": {},
   "source": [
    "## Select bottom Face"
   ]
  },
  {
   "cell_type": "code",
   "execution_count": null,
   "id": "7bbd13c8-f4d8-4b23-a1eb-d70860f14a2c",
   "metadata": {},
   "outputs": [],
   "source": [
    "subset = env.vectors[(env.normals[:, 0] == 0.0) & (env.normals[:, 1] == 0.0) & (env.normals[:, 2] < 0.0)]"
   ]
  },
  {
   "cell_type": "markdown",
   "id": "6895a5d0-a981-4e6d-b0a7-80a836c607e4",
   "metadata": {},
   "source": [
    "## Set initial Pose"
   ]
  },
  {
   "cell_type": "code",
   "execution_count": null,
   "id": "5edc3a15-e574-4525-bc37-fae89e3e19de",
   "metadata": {},
   "outputs": [],
   "source": [
    "pose = [900, 50, np.pi]\n",
    "pose = [500, 50, np.radians(-45)]\n",
    "#pose = [500, 50, 0]\n",
    "#pose = [850, 52, 3.0892327760299634]\n",
    "#pose = [753, 77, 2.792526803190927]\n",
    "#pose = [ 166.648113,  213.283612,  0.20943951]\n",
    "#pose = [ 215.555493,  223.679196,  0.20943951]\n",
    "#pose = [ 260.735529,  234.518542,  0.2268928 ]\n",
    "#pose = [107.199835, 189.184783, 1.30899694]\n",
    "pose = [107, 189, 1.30899694]"
   ]
  },
  {
   "cell_type": "code",
   "execution_count": null,
   "id": "28dae9bc-f7ce-48dc-8f4e-31e060b1e477",
   "metadata": {},
   "outputs": [],
   "source": [
    "from matplotlib.patches import Polygon\n",
    "\n",
    "fig,ax = plt.subplots()\n",
    "for y in subset[:,:, 0:2]:\n",
    "    p = Polygon(y, facecolor = 'k')\n",
    "    ax.add_patch(p)\n",
    "ax.axis('equal')\n",
    "plt.arrow(pose[0], pose[1], 10 * np.cos(pose[2]), 10 * np.sin(pose[2]), width=3.0)"
   ]
  },
  {
   "cell_type": "markdown",
   "id": "92123450-636e-48f3-a1d1-8a2bd46d7233",
   "metadata": {},
   "source": [
    "## Transform to Lidar Frame"
   ]
  },
  {
   "cell_type": "code",
   "execution_count": null,
   "id": "a1ca73c2-6662-4815-98d6-a295b6627587",
   "metadata": {},
   "outputs": [],
   "source": [
    "env.x = env.x - pose[0]\n",
    "env.y = env.y - pose[1]\n",
    "env.rotate([0.0, 0.0, 1.0], pose[2])"
   ]
  },
  {
   "cell_type": "code",
   "execution_count": null,
   "id": "ba9f1c4f-ca81-4cd6-a884-c709c744108c",
   "metadata": {},
   "outputs": [],
   "source": [
    "subset = env.vectors[(env.normals[:, 0] == 0.0) & (env.normals[:, 1] == 0.0) & (env.normals[:, 2] < 0.0)]"
   ]
  },
  {
   "cell_type": "code",
   "execution_count": null,
   "id": "833ed63e-2e4c-46d5-896e-aec67f2ab1cf",
   "metadata": {},
   "outputs": [],
   "source": [
    "fig,ax = plt.subplots()\n",
    "for y in subset[:,:, 0:2]:\n",
    "    p = Polygon(y, facecolor = 'k')\n",
    "    ax.add_patch(p)\n",
    "ax.axis('equal')\n",
    "plt.arrow(0, 0, 10, 0, width=3.0)"
   ]
  },
  {
   "cell_type": "markdown",
   "id": "450a2770-7c4e-4688-a66f-c4d8d828753c",
   "metadata": {},
   "source": [
    "## Convert to polar coordinate system"
   ]
  },
  {
   "cell_type": "code",
   "execution_count": null,
   "id": "99b28cfc-71f2-4baf-8dfe-3270000e96d0",
   "metadata": {},
   "outputs": [],
   "source": [
    "import cmath\n",
    "def cart2polC(xyz):\n",
    "    x, y, z = xyz\n",
    "    return(cmath.polar(complex(x, y))) # rho, phi\n",
    "def convert_array(arr):\n",
    "    theta = []\n",
    "    r = []\n",
    "    for x in arr:\n",
    "        rho, phi = cart2polC(x)\n",
    "        theta.append(phi)\n",
    "        r.append(rho)\n",
    "    return theta, r    "
   ]
  },
  {
   "cell_type": "code",
   "execution_count": null,
   "id": "55008ea4-c4b9-4516-9576-6aa2578dce75",
   "metadata": {},
   "outputs": [],
   "source": [
    "triangles = []\n",
    "for t in subset[:,:, :]:\n",
    "    a = np.array(convert_array(t)).transpose()\n",
    "    triangles.append(a[a[:, 0].argsort()])\n",
    "triangles = np.array(triangles) "
   ]
  },
  {
   "cell_type": "code",
   "execution_count": null,
   "id": "01780fa0-e889-47e0-9c31-88a211372728",
   "metadata": {},
   "outputs": [],
   "source": [
    "fig, ax = plt.subplots(subplot_kw={'projection': 'polar'})\n",
    "for t in triangles:\n",
    "    ax.fill(t[:, 0],t[:, 1],fill=False)"
   ]
  },
  {
   "cell_type": "markdown",
   "id": "50f29807-86fe-4f77-b60f-ebcd1036b35c",
   "metadata": {},
   "source": [
    "## Filter closest points\n"
   ]
  },
  {
   "cell_type": "markdown",
   "id": "0cf456b6-eaf6-4a8f-ad07-fb788c3021b7",
   "metadata": {},
   "source": [
    "### Lines in poloar coordinates\n",
    "\n",
    "A line in carthesian coordonate system is described as \n",
    "\n",
    "$$\n",
    "y = m * x + b\n",
    "$$\n",
    "\n",
    "We make the following substitution:\n",
    "\n",
    "$$\n",
    "x = r * cos(\\theta)\n",
    "$$\n",
    "\n",
    "$$\n",
    "y = r * sin(\\theta)\n",
    "$$\n",
    "\n",
    "Given two points in polar coordinates\n",
    "\n",
    "$$\n",
    "P_1 = (\\theta_1, r_1)\n",
    "$$\n",
    "\n",
    "$$\n",
    "P_2 = (\\theta_2, r_2)\n",
    "$$\n",
    "\n",
    "we can calculate m and b. Finally we can calculate the intersection of the line connecting $P_1$ and $P_2$ with the line from the origin and an agle of $\\theta$"
   ]
  },
  {
   "cell_type": "code",
   "execution_count": null,
   "id": "d7c7b8e9-8e98-4a34-ac82-0ab8c4048a9d",
   "metadata": {},
   "outputs": [],
   "source": [
    "import sympy as sp\n",
    "from sympy.abc import theta"
   ]
  },
  {
   "cell_type": "code",
   "execution_count": null,
   "id": "2225eb47-f42a-4d0d-bd70-21093d7e4a29",
   "metadata": {},
   "outputs": [],
   "source": [
    "x,y = sp.symbols(\"x,y\")\n",
    "m,b,r,r1, r2 = sp.symbols(\"m,b,r,r1,r2\", real=True)\n",
    "theta_1, theta_2 = sp.symbols('theta_1,theta_2')"
   ]
  },
  {
   "cell_type": "code",
   "execution_count": null,
   "id": "cd8caf34-a5cb-4094-b571-7d68c587f849",
   "metadata": {},
   "outputs": [],
   "source": [
    "expr = y - m*x - b\n",
    "expr = expr.subs(x, r * sp.cos(theta))\n",
    "expr = expr.subs(y, r * sp.sin(theta))\n",
    "expr"
   ]
  },
  {
   "cell_type": "code",
   "execution_count": null,
   "id": "7159f5c4-fa02-42c5-9049-686a4557c220",
   "metadata": {},
   "outputs": [],
   "source": [
    "p1 = expr.subs(r, r1).subs(theta, theta_1)\n",
    "p2 = expr.subs(r, r2).subs(theta, theta_2)"
   ]
  },
  {
   "cell_type": "code",
   "execution_count": null,
   "id": "863aa117-c0d6-4170-b390-3948647a63c0",
   "metadata": {},
   "outputs": [],
   "source": [
    "p2.subs(b, 𝑟1 * sp.sin(theta_1)) - m * r1 * sp.cos(theta_1)"
   ]
  },
  {
   "cell_type": "code",
   "execution_count": null,
   "id": "3ef5d277-d40b-49be-a068-062e9d7cffe6",
   "metadata": {},
   "outputs": [],
   "source": [
    "def get_distance(p1, p2, theta):\n",
    "    theta_plus = theta\n",
    "    if(p1[0] > np.pi) or (p2[0] > np.pi):\n",
    "        # tringles are transformed in filter_triangles\n",
    "        if theta < 0:\n",
    "            theta_plus = theta + 2 * np.pi\n",
    "    p = np.array([p1[0], p2[0]])\n",
    "    if not (p.min() <= theta_plus) & (theta_plus <= p.max()):\n",
    "        return max_range + 1.0\n",
    "    r_s_1 = np.sin(p1[0]) * p1[1]\n",
    "    r_c_1 = np.cos(p1[0]) * p1[1]\n",
    "    r_s_2 = np.sin(p2[0]) * p2[1]\n",
    "    r_c_2 = np.cos(p2[0]) * p2[1]\n",
    "    m = (r_s_2 - r_s_1) / (r_c_2 - r_c_1)\n",
    "    b = r_s_1 - m * r_c_1\n",
    "    dist = b / (np.sin(theta_plus) - m * np.cos(theta_plus))\n",
    "    return dist"
   ]
  },
  {
   "cell_type": "markdown",
   "id": "9490bb74-3620-44bc-bf23-b951e5c84859",
   "metadata": {},
   "source": [
    "## Select Triangles hit by Ray\n",
    "\n",
    "Must have vertices on both sides of the ray\n",
    "\n",
    "Handle case where triangle is on both sides of the x axis\n",
    "\n",
    "Handle case where triangle crosses +/- np.pi line"
   ]
  },
  {
   "cell_type": "code",
   "execution_count": null,
   "id": "6c56cf15-97d1-477c-96b8-719d2cb73aa6",
   "metadata": {},
   "outputs": [],
   "source": [
    "def filter_triangles(triangles, theta):\n",
    "    special_cases = triangles[np.any(triangles >= 0, axis=1)[:,0] & np.any(triangles <0, axis=1)[:, 0]]\n",
    "    other_cases = triangles[np.invert(np.any(triangles >= 0, axis=1)[:,0] & np.any(triangles <0, axis=1)[:, 0])]\n",
    "    # verticies on both sides\n",
    "    triangles_hit = other_cases[np.any(other_cases >= theta, axis=1)[:,0] & np.any(other_cases <= theta, axis=1)[:, 0]]\n",
    "    # handle special cases:\n",
    "    sc = []\n",
    "    for t in special_cases:\n",
    "        if ((t[:, 0].max() - t[:, 0].min()) < np.pi):\n",
    "            # not so special after all\n",
    "            if (theta <= t[:, 0].max()) & (t[:, 0].min() <= theta):\n",
    "                sc.append(t)\n",
    "        else:\n",
    "            for e in t:\n",
    "                if e[0] < 0:\n",
    "                    e[0] += 2* np.pi\n",
    "            if (theta + 2* np.pi <= t[:, 0].max()) & (t[:, 0].min() <= theta + 2* np.pi):\n",
    "                sc.append(t)\n",
    "            if (theta <= t[:, 0].max()) & (t[:, 0].min() <= theta):\n",
    "                sc.append(t)\n",
    "\n",
    "    result = []\n",
    "    for t in triangles_hit:\n",
    "        result.append(t)\n",
    "    for t in sc:\n",
    "        result.append(t)\n",
    "    return np.array(result)"
   ]
  },
  {
   "cell_type": "code",
   "execution_count": null,
   "id": "84453781-97e2-431d-b740-94d5eefc5b57",
   "metadata": {},
   "outputs": [],
   "source": [
    "#theta = np.radians(0) # OK\n",
    "theta = np.radians(90) # OK\n",
    "#theta = np.radians(-90) # OK\n",
    "#theta = np.radians(-80) # OK\n",
    "#theta = np.radians(180) # OK\n",
    "#theta = np.radians(-135) # OK\n",
    "\n",
    "triangles_hit = filter_triangles(triangles, theta)"
   ]
  },
  {
   "cell_type": "code",
   "execution_count": null,
   "id": "72faebcd-6350-459d-91d1-d1e365a55424",
   "metadata": {},
   "outputs": [],
   "source": [
    "fig, ax = plt.subplots(subplot_kw={'projection': 'polar'})\n",
    "for t in triangles:\n",
    "    ax.fill(t[:, 0],t[:, 1],fill=False)\n",
    "for t in triangles_hit:\n",
    "    ax.fill(t[:, 0],t[:, 1],fill=True)"
   ]
  },
  {
   "cell_type": "code",
   "execution_count": null,
   "id": "420c7df9-5b18-4ffb-ae09-e5186cdca691",
   "metadata": {},
   "outputs": [],
   "source": [
    "intersection_points = np.zeros((2, 2))\n",
    "intersection_points[:, 0] = theta\n",
    "points = []\n",
    "dist = get_distance(t[0], t[1], theta)\n",
    "if dist < max_range:\n",
    "    points.append(dist)\n",
    "dist = get_distance(t[0], t[2], theta)\n",
    "if dist < max_range:\n",
    "    points.append(dist)\n",
    "dist = get_distance(t[1], t[2], theta)\n",
    "if dist < max_range:\n",
    "    points.append(dist)\n",
    "if len(points) > 0:\n",
    "    intersection_points[0, 1] = points[0]\n",
    "    intersection_points[1, 1] = points[1]\n",
    "else:\n",
    "    intersection_points[:, 1] = max_range + 1.0\n",
    "    t = np.zeros((3, 2))"
   ]
  },
  {
   "cell_type": "code",
   "execution_count": null,
   "id": "80e59021-e1ae-4789-880a-0d3a3a817c7b",
   "metadata": {},
   "outputs": [],
   "source": [
    "fig, ax = plt.subplots(subplot_kw={'projection': 'polar'})\n",
    "ax.fill(t[:, 0],t[:, 1],fill=False)\n",
    "ax.scatter(intersection_points[:, 0], intersection_points[:, 1], s=4.0)"
   ]
  },
  {
   "cell_type": "code",
   "execution_count": null,
   "id": "950ae7c0-c23f-46a2-b00b-8b8d25b44645",
   "metadata": {},
   "outputs": [],
   "source": [
    "def lidar_filter(triangles):\n",
    "    scan = []\n",
    "    samples = np.arange(-np.pi, np.pi, np.radians(resolution))\n",
    "    for sample in samples:\n",
    "        #start with out of range\n",
    "        dist = max_range + 1.0\n",
    "        # select all triangles hit by the ray\n",
    "        triangles_hit = filter_triangles(triangles, sample)  \n",
    "        for t in triangles_hit:       \n",
    "            dist_t = np.empty(3)\n",
    "            dist_t[0] = get_distance(t[0], t[1], sample)\n",
    "            dist_t[1] = get_distance(t[0], t[2], sample)\n",
    "            dist_t[2] = get_distance(t[1], t[2], sample)\n",
    "            dist = min(dist_t.min(), dist)\n",
    "        scan.append(dist)\n",
    "        if dist > max_range:\n",
    "            scan[-1] = None\n",
    "        if dist < min_range:\n",
    "            scan[-1] = None\n",
    "    return np.roll(np.array(scan), int(np.pi / np.radians(resolution)))       "
   ]
  },
  {
   "cell_type": "code",
   "execution_count": null,
   "id": "1cddf31f-6a08-48d0-82d0-167874e274b8",
   "metadata": {},
   "outputs": [],
   "source": [
    "lidar_scan = lidar_filter(triangles)"
   ]
  },
  {
   "cell_type": "code",
   "execution_count": null,
   "id": "ecf62331-cca0-4e97-9960-e9db3efd0741",
   "metadata": {},
   "outputs": [],
   "source": [
    "plot_scan = np.stack((np.arange(0, 2 * np.pi, np.radians(resolution)), lidar_scan), axis=1)\n",
    "plot_scan = plot_scan[plot_scan[:, 1] != np.array(None)]"
   ]
  },
  {
   "cell_type": "code",
   "execution_count": null,
   "id": "4049a4b7-704f-4aba-af91-d699ca030d40",
   "metadata": {},
   "outputs": [],
   "source": [
    "fig, ax = plt.subplots(subplot_kw={'projection': 'polar'})\n",
    "ax.scatter(plot_scan[:, 0], plot_scan[:, 1], s=3.0)\n",
    "for t in triangles:\n",
    "    ax.fill(t[:, 0],t[:, 1],fill=False)\n",
    "ax.set_rmax(1000)\n",
    "ax.set_rticks([500, 1000])  # Less radial ticks\n",
    "ax.set_rlabel_position(-22.5)  # Move radial labels away from plotted line\n",
    "ax.grid(True)\n",
    "\n",
    "ax.set_title(\"Lidar Scann\", va='bottom')"
   ]
  },
  {
   "cell_type": "code",
   "execution_count": null,
   "id": "117d1ff1-238f-4305-b461-ba7dedceaf1c",
   "metadata": {},
   "outputs": [],
   "source": [
    "from LidarSim.lidar_sim import LidarSimulator"
   ]
  },
  {
   "cell_type": "code",
   "execution_count": null,
   "id": "0995800a-5468-4ef7-a94a-682a8a7b61c1",
   "metadata": {},
   "outputs": [],
   "source": [
    "test_lidar = LidarSimulator(\"racetrack.stl\")\n",
    "point = [107, 189]\n",
    "yaw = np.radians(45)\n",
    "plot_scan = test_lidar.get_lidar_points(point[0], point[1], yaw)\n",
    "triangles = test_lidar.get_env_triangles(point[0], point[1], yaw)"
   ]
  },
  {
   "cell_type": "code",
   "execution_count": null,
   "id": "4ab1abba-3b3d-4370-9af5-b719a490c782",
   "metadata": {},
   "outputs": [],
   "source": [
    "fig, ax = plt.subplots(subplot_kw={'projection': 'polar'})\n",
    "ax.scatter(plot_scan[:, 0], plot_scan[:, 1], s=3.0)\n",
    "for t in triangles:\n",
    "    ax.fill(t[:, 0],t[:, 1],fill=False)\n",
    "ax.set_rmax(1000)\n",
    "ax.set_rticks([500, 1000])  # Less radial ticks\n",
    "ax.grid(True)\n",
    "\n",
    "ax.set_title(\"Lidar Scann\", va='bottom')"
   ]
  },
  {
   "cell_type": "code",
   "execution_count": null,
   "id": "f6b35786-fa8a-497c-a438-9fabb9d1506e",
   "metadata": {},
   "outputs": [],
   "source": [
    "test_lidar = LidarSimulator(\"maze.stl\")\n",
    "point = [25, 25]\n",
    "yaw = np.radians(90)\n",
    "plot_scan = test_lidar.get_lidar_points(point[0], point[1], yaw)\n",
    "triangles = test_lidar.get_env_triangles(point[0], point[1], yaw)"
   ]
  },
  {
   "cell_type": "code",
   "execution_count": null,
   "id": "65fe9a94-f258-4c52-ae7d-7986ebfc4fba",
   "metadata": {},
   "outputs": [],
   "source": [
    "fig, ax = plt.subplots(subplot_kw={'projection': 'polar'})\n",
    "ax.scatter(plot_scan[:, 0], plot_scan[:, 1], s=3.0)\n",
    "for t in triangles:\n",
    "    ax.fill(t[:, 0],t[:, 1],fill=False)\n",
    "ax.set_rmax(1000)\n",
    "ax.set_rticks([500, 1000])  # Less radial ticks\n",
    "ax.grid(True)\n",
    "\n",
    "ax.set_title(\"Lidar Scann\", va='bottom')"
   ]
  },
  {
   "cell_type": "code",
   "execution_count": null,
   "id": "c8ac27c6-6327-4818-991b-dd1db34c50ee",
   "metadata": {},
   "outputs": [],
   "source": [
    "test_lidar = LidarSimulator(\"rectangle.stl\")\n",
    "point = [25, 25]\n",
    "yaw = np.radians(90)\n",
    "plot_scan = test_lidar.get_lidar_points(point[0], point[1], yaw)\n",
    "triangles = test_lidar.get_env_triangles(point[0], point[1], yaw)"
   ]
  },
  {
   "cell_type": "code",
   "execution_count": null,
   "id": "d8b8c8d9-adb2-47aa-86e6-410f9ea2170e",
   "metadata": {},
   "outputs": [],
   "source": [
    "fig, ax = plt.subplots(subplot_kw={'projection': 'polar'})\n",
    "ax.scatter(plot_scan[:, 0], plot_scan[:, 1], s=3.0)\n",
    "for t in triangles:\n",
    "    ax.fill(t[:, 0],t[:, 1],fill=False)\n",
    "ax.set_rmax(1000)\n",
    "ax.set_rticks([500, 1000])  # Less radial ticks\n",
    "ax.grid(True)\n",
    "\n",
    "ax.set_title(\"Lidar Scann\", va='bottom')"
   ]
  }
 ],
 "metadata": {
  "kernelspec": {
   "display_name": "lidar_sim",
   "language": "python",
   "name": "lidar_sim"
  },
  "language_info": {
   "codemirror_mode": {
    "name": "ipython",
    "version": 3
   },
   "file_extension": ".py",
   "mimetype": "text/x-python",
   "name": "python",
   "nbconvert_exporter": "python",
   "pygments_lexer": "ipython3",
   "version": "3.11.4"
  }
 },
 "nbformat": 4,
 "nbformat_minor": 5
}
