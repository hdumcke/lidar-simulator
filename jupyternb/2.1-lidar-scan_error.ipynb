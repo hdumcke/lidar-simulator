{
 "cells": [
  {
   "cell_type": "markdown",
   "id": "d0bf03ce-dfab-48d4-a563-cbfe7e12d993",
   "metadata": {},
   "source": [
    "# Adding Statistical Errors"
   ]
  },
  {
   "cell_type": "code",
   "execution_count": null,
   "id": "d79de850-937b-490e-8ed7-c9cf0ca98be7",
   "metadata": {},
   "outputs": [],
   "source": [
    "%matplotlib inline\n",
    "import matplotlib.pyplot as plt\n",
    "import numpy as np"
   ]
  },
  {
   "cell_type": "code",
   "execution_count": null,
   "id": "01922bc7-fc6f-4e77-a410-1c5acabb1bff",
   "metadata": {},
   "outputs": [],
   "source": [
    "from LidarSim.lidar_sim import LidarSimulator"
   ]
  },
  {
   "cell_type": "code",
   "execution_count": null,
   "id": "96c61041-85c1-41f4-b173-5ce1414bcc3e",
   "metadata": {},
   "outputs": [],
   "source": [
    "test_lidar = LidarSimulator(\"rectangle.stl\")\n",
    "point = [25, 25]\n",
    "yaw = np.radians(90)\n",
    "plot_scan = test_lidar.get_lidar_points(point[0], point[1], yaw)\n",
    "triangles = test_lidar.get_env_triangles(point[0], point[1], yaw)"
   ]
  },
  {
   "cell_type": "code",
   "execution_count": null,
   "id": "e92dad67-a0c8-4460-ac7b-11e2908bd751",
   "metadata": {},
   "outputs": [],
   "source": [
    "mu, sigma = 1.0, 0.01 # mean and standard deviation\n",
    "s = np.random.normal(mu, sigma, plot_scan.shape[0])"
   ]
  },
  {
   "cell_type": "code",
   "execution_count": null,
   "id": "ba4ecee3-ef43-473a-978c-571ebc594cba",
   "metadata": {},
   "outputs": [],
   "source": [
    "count, bins, ignored = plt.hist(s, 30, density=True)\n",
    "plt.plot(bins, 1/(sigma * np.sqrt(2 * np.pi)) *\n",
    "               np.exp( - (bins - mu)**2 / (2 * sigma**2) ),\n",
    "         linewidth=2, color='r')"
   ]
  },
  {
   "cell_type": "code",
   "execution_count": null,
   "id": "4c08b67d-3643-43f8-a6a0-1312d99d266f",
   "metadata": {},
   "outputs": [],
   "source": [
    "plot_scan[:,1] = plot_scan[:,1] * s"
   ]
  },
  {
   "cell_type": "code",
   "execution_count": null,
   "id": "15be377d-c8c3-4ee3-a7dc-09249af89deb",
   "metadata": {},
   "outputs": [],
   "source": [
    "fig, ax = plt.subplots(subplot_kw={'projection': 'polar'})\n",
    "ax.scatter(plot_scan[:, 0], plot_scan[:, 1], s=3.0)\n",
    "for t in triangles:\n",
    "    ax.fill(t[:, 0],t[:, 1],fill=False)\n",
    "ax.set_rmax(1200)\n",
    "ax.set_rticks([500, 1000])  # Less radial ticks\n",
    "ax.grid(True)\n",
    "\n",
    "ax.set_title(\"Lidar Scann with Error\", va='bottom')"
   ]
  },
  {
   "cell_type": "code",
   "execution_count": null,
   "id": "2281e350-8ce6-4bde-80b4-36e5cd5c2909",
   "metadata": {},
   "outputs": [],
   "source": [
    "test_lidar = LidarSimulator(\"rectangle.stl\", error=0.01)\n",
    "point = [25, 25]\n",
    "yaw = np.radians(90)\n",
    "plot_scan = test_lidar.get_lidar_points(point[0], point[1], yaw)\n",
    "triangles = test_lidar.get_env_triangles(point[0], point[1], yaw)"
   ]
  },
  {
   "cell_type": "code",
   "execution_count": null,
   "id": "f5376c04-4204-42e4-b974-04af338de139",
   "metadata": {},
   "outputs": [],
   "source": [
    "fig, ax = plt.subplots(subplot_kw={'projection': 'polar'})\n",
    "ax.scatter(plot_scan[:, 0], plot_scan[:, 1], s=3.0)\n",
    "for t in triangles:\n",
    "    ax.fill(t[:, 0],t[:, 1],fill=False)\n",
    "ax.set_rmax(1200)\n",
    "ax.set_rticks([500, 1000])  # Less radial ticks\n",
    "ax.grid(True)\n",
    "\n",
    "ax.set_title(\"Lidar Scann with Error\", va='bottom')"
   ]
  }
 ],
 "metadata": {
  "kernelspec": {
   "display_name": "lidar_sim",
   "language": "python",
   "name": "lidar_sim"
  },
  "language_info": {
   "codemirror_mode": {
    "name": "ipython",
    "version": 3
   },
   "file_extension": ".py",
   "mimetype": "text/x-python",
   "name": "python",
   "nbconvert_exporter": "python",
   "pygments_lexer": "ipython3",
   "version": "3.11.4"
  }
 },
 "nbformat": 4,
 "nbformat_minor": 5
}
