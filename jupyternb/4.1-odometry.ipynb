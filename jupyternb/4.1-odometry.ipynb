{
 "cells": [
  {
   "cell_type": "markdown",
   "id": "94f4416a-34bd-4c58-8f84-b78a10ee335f",
   "metadata": {},
   "source": [
    "# Odometry Simulator\n",
    "\n",
    "## ToDo"
   ]
  },
  {
   "cell_type": "code",
   "execution_count": null,
   "id": "70cd9d28-e938-4cd9-9ff9-4ded1db4518b",
   "metadata": {},
   "outputs": [],
   "source": [
    "%matplotlib inline\n",
    "import matplotlib.pyplot as plt\n",
    "import numpy as np\n",
    "import Utilities.utilities as utilities"
   ]
  },
  {
   "cell_type": "code",
   "execution_count": null,
   "id": "e825300b-bb4b-4f2d-a63d-478379fbc471",
   "metadata": {},
   "outputs": [],
   "source": [
    "pose = [0.0, 0.0, 0.0]\n",
    "cmd_vel = {}\n",
    "cmd_vel[\"linear_x\"] = 1.0\n",
    "cmd_vel[\"linear_y\"] = 1.0\n",
    "cmd_vel[\"angular_z\"] = 0.0\n",
    "dt = 0.1"
   ]
  },
  {
   "cell_type": "code",
   "execution_count": null,
   "id": "c0bf015e-18b6-42fe-8bc4-3d360760a992",
   "metadata": {},
   "outputs": [],
   "source": [
    "fig,ax = plt.subplots()\n",
    "position = pose\n",
    "ax.axis('equal')\n",
    "plt.arrow(position[0], position[1], 10 * np.cos(position[2]), 10 * np.sin(position[2]), width=3.0)\n",
    "for i in range(10):\n",
    "    position = utilities.get_odom(cmd_vel, position, dt)\n",
    "    print(position)\n",
    "    plt.arrow(position[0], position[1], 10 * np.cos(position[2]), 10 * np.sin(position[2]), width=3.0)"
   ]
  }
 ],
 "metadata": {
  "kernelspec": {
   "display_name": "lidar_sim",
   "language": "python",
   "name": "lidar_sim"
  },
  "language_info": {
   "codemirror_mode": {
    "name": "ipython",
    "version": 3
   },
   "file_extension": ".py",
   "mimetype": "text/x-python",
   "name": "python",
   "nbconvert_exporter": "python",
   "pygments_lexer": "ipython3",
   "version": "3.11.4"
  }
 },
 "nbformat": 4,
 "nbformat_minor": 5
}
