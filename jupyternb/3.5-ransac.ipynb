{
 "cells": [
  {
   "cell_type": "markdown",
   "id": "b02fb686-c31a-418a-a979-b5780b36ee47",
   "metadata": {},
   "source": [
    "# Algorithm 4: RANSAC\n",
    "\n",
    "```\n",
    "1. Initial: let A be a set of N points\n",
    "2. repeat\n",
    "3. Randomly select a sample of 2 points from A\n",
    "4. Fit a line through the 2 points\n",
    "5. Compute the distances of all other points to this line\n",
    "6. Construct the inlier set (i.e. count the number of points with distance to the line <d) \n",
    "7. Store these inliers\n",
    "8. until Maximum number of iterations k reached\n",
    "9. The set with the maximum number of inliers is chosen as a solution to the problem\n",
    "```\n",
    "\n",
    "## Reference\n",
    "\n",
    "Roland Siegwart, Illah Nourbakhsh, and Davide Scaramuzza. Introduction to Autonomous Mobile Robots. MIT Press, 2nd edition, 2011."
   ]
  },
  {
   "cell_type": "code",
   "execution_count": null,
   "id": "cb19f2ef-3cef-49cf-be6e-762b2e63c928",
   "metadata": {},
   "outputs": [],
   "source": [
    "%matplotlib inline\n",
    "import matplotlib.pyplot as plt\n",
    "import numpy as np\n",
    "import pickle\n",
    "from Ransac.ransac import Ransac"
   ]
  },
  {
   "cell_type": "code",
   "execution_count": null,
   "id": "af6ab69a-4047-4376-bb9d-0931549af203",
   "metadata": {},
   "outputs": [],
   "source": [
    "testdata = []\n",
    "for i in range(6):\n",
    "    with open('/Users/hdumcke/git/lidar-simulator/jupyternb/data/testLineExtraction%s.mat.pickle' % str(i+1), 'rb') as f:\n",
    "        testdata.append(pickle.load(f))"
   ]
  },
  {
   "cell_type": "code",
   "execution_count": null,
   "id": "bd7fb7f8-b9f4-4ae5-9eed-1193294abdee",
   "metadata": {},
   "outputs": [],
   "source": [
    "fig, axs = plt.subplots(3, 2)\n",
    "for i in range(6):\n",
    "    row_index = int(i / 2)\n",
    "    column_index = i % 2\n",
    "    axs[row_index, column_index].axis('equal')\n",
    "    x = testdata[i]['rho'] * np.cos(testdata[i]['theta'])\n",
    "    y = testdata[i]['rho'] * np.sin(testdata[i]['theta'])\n",
    "    axs[row_index, column_index].scatter(x, y)"
   ]
  },
  {
   "cell_type": "code",
   "execution_count": null,
   "id": "693c4dce-86be-41bd-9afa-badabd0784f9",
   "metadata": {},
   "outputs": [],
   "source": [
    "rs = Ransac(num_iterations=20, dist_threshold=0.005, min_points_per_segment=15)\n",
    "\n",
    "fig, axs = plt.subplots(3, 2)\n",
    "for i in range(6):\n",
    "    row_index = int(i / 2)\n",
    "    column_index = i % 2\n",
    "    axs[row_index, column_index].axis('equal')\n",
    "    x = testdata[i]['rho'] * np.cos(testdata[i]['theta'])\n",
    "    y = testdata[i]['rho'] * np.sin(testdata[i]['theta'])\n",
    "    segend, seglen, pointIdx_a = rs.extractLines(x[0], y[0])\n",
    "    for j in range(segend.shape[0]):\n",
    "        axs[row_index, column_index].plot([segend[j,0], segend[j,2]], [segend[j,1], segend[j,3]])"
   ]
  },
  {
   "cell_type": "code",
   "execution_count": null,
   "id": "38524326-826a-4573-b5ef-dd64056c6c33",
   "metadata": {},
   "outputs": [],
   "source": [
    "from LidarSim.lidar_sim import LidarSimulator\n",
    "lidar = LidarSimulator(\"rectangle.stl\")"
   ]
  },
  {
   "cell_type": "code",
   "execution_count": null,
   "id": "6faf8207-4f98-4d74-8616-bf0395b6b5ec",
   "metadata": {},
   "outputs": [],
   "source": [
    "point = [500, 300]\n",
    "yaw = np.radians(0)\n",
    "plot_scan = lidar.get_lidar_points(point[0], point[1], yaw)"
   ]
  },
  {
   "cell_type": "code",
   "execution_count": null,
   "id": "87f434b1-d2e2-4c03-8797-f7aef85f9c43",
   "metadata": {},
   "outputs": [],
   "source": [
    "# get carthesian coordinates\n",
    "x = []\n",
    "y = []\n",
    "for alpha, r in plot_scan:\n",
    "    x.append(r * np.cos(alpha)+ point[0])\n",
    "    y.append(r * np.sin(alpha) + point[1])"
   ]
  },
  {
   "cell_type": "code",
   "execution_count": null,
   "id": "d0fc5cc3-7b8d-4686-8469-fd60897b5bfe",
   "metadata": {},
   "outputs": [],
   "source": [
    "rs = Ransac()\n",
    "\n",
    "fig,ax = plt.subplots()\n",
    "ax.axis('equal')\n",
    "plt.arrow(point[0], point[1], 10 * np.cos(yaw), 10 * np.sin(yaw), width=3.0)\n",
    "#plt.scatter (x[211:329], y[211:329])\n",
    "segend, seglen, pointIdx_a = rs.extractLines(x, y)\n",
    "for j in range(segend.shape[0]):\n",
    "    ax.plot([segend[j,0], segend[j,2]], [segend[j,1], segend[j,3]])"
   ]
  },
  {
   "cell_type": "code",
   "execution_count": null,
   "id": "12013661-2fc0-4572-817e-9e220c6e526c",
   "metadata": {},
   "outputs": [],
   "source": [
    "import Utilities.utilities as utilities"
   ]
  },
  {
   "cell_type": "code",
   "execution_count": null,
   "id": "6c852865-19e4-479a-a37f-992cf6629120",
   "metadata": {},
   "outputs": [],
   "source": [
    "from LidarSim.lidar_sim import LidarSimulator\n",
    "lidar = LidarSimulator(\"maze.stl\")\n",
    "triangles = lidar.get_map_triangles()\n",
    "point = [25, 25]\n",
    "yaw = np.radians(90)"
   ]
  },
  {
   "cell_type": "code",
   "execution_count": null,
   "id": "bd506129-fe3c-4e13-a4fe-17ddc6dfbb8c",
   "metadata": {},
   "outputs": [],
   "source": [
    "pose = [[25, 25, 90 ],\n",
    "        [25, 175, 90 ],\n",
    "        [25, 175, 0 ],\n",
    "        [75, 175, 0 ],\n",
    "        [75, 125, 0 ],\n",
    "        [25, 325, 90 ]]\n",
    "\n",
    "fig, axs = plt.subplots(3, 2, figsize=(15, 15))\n",
    "for i in range(6):\n",
    "    row_index = int(i / 2)\n",
    "    column_index = i % 2\n",
    "    axs[row_index, column_index].axis('equal')\n",
    "    point = pose[i][0:2]\n",
    "    yaw = np.radians(pose[i][2])\n",
    "    plot_scan = lidar.get_lidar_points(point[0], point[1], yaw)\n",
    "    # get carthesian coordinates\n",
    "    x = []\n",
    "    y = []\n",
    "    for alpha, r in plot_scan:\n",
    "        x.append(r * np.cos(alpha)+ point[0])\n",
    "        y.append(r * np.sin(alpha) + point[1])\n",
    "    \n",
    "    rs = Ransac()\n",
    "\n",
    "    axs[row_index, column_index].arrow(point[0], point[1], 10 * np.cos(yaw), 10 * np.sin(yaw), width=3.0)\n",
    "    segend, seglen, pointIdx_a = rs.extractLines(x, y)\n",
    "    for j in range(segend.shape[0]):\n",
    "        x_p, y_p = utilities.rotate_segend(segend[j], point, yaw)\n",
    "        axs[row_index, column_index].plot(x_p, y_p, 'r')\n",
    "    for t in triangles:\n",
    "        axs[row_index, column_index].fill(t[:, 0],t[:, 1],fill=False)"
   ]
  },
  {
   "cell_type": "code",
   "execution_count": null,
   "id": "adfac972-c01e-4a22-a0b1-ed6ad8a55c5b",
   "metadata": {},
   "outputs": [],
   "source": [
    "from LidarSim.lidar_sim import LidarSimulator\n",
    "lidar = LidarSimulator(\"racetrack.stl\")\n",
    "triangles = lidar.get_map_triangles()\n",
    "yaw = np.radians(180)"
   ]
  },
  {
   "cell_type": "code",
   "execution_count": null,
   "id": "34472f6a-295d-4a57-8734-84c24571f551",
   "metadata": {},
   "outputs": [],
   "source": [
    "pose = [[900, 50, 180 ],\n",
    "        [200, 50, 180 ],\n",
    "        [50, 100, 90 ],\n",
    "        [75, 200, 45 ],\n",
    "        [200, 250, -40 ],\n",
    "        [500, 500, 0 ]]\n",
    "\n",
    "fig, axs = plt.subplots(3, 2, figsize=(15, 15))\n",
    "for i in range(6):\n",
    "    row_index = int(i / 2)\n",
    "    column_index = i % 2\n",
    "    axs[row_index, column_index].axis('equal')\n",
    "    point = pose[i][0:2]\n",
    "    yaw = np.radians(pose[i][2])\n",
    "    plot_scan = lidar.get_lidar_points(point[0], point[1], yaw)\n",
    "    # get carthesian coordinates\n",
    "    x = []\n",
    "    y = []\n",
    "    for alpha, r in plot_scan:\n",
    "        x.append(r * np.cos(alpha)+ point[0])\n",
    "        y.append(r * np.sin(alpha) + point[1])\n",
    "    \n",
    "    rs = Ransac()\n",
    "\n",
    "    axs[row_index, column_index].arrow(point[0], point[1], 10 * np.cos(yaw), 10 * np.sin(yaw), width=3.0)\n",
    "    segend, seglen, pointIdx_a = rs.extractLines(x, y)\n",
    "    for j in range(segend.shape[0]):\n",
    "        x_p, y_p = utilities.rotate_segend(segend[j], point, yaw)\n",
    "        axs[row_index, column_index].plot(x_p, y_p, 'r')\n",
    "    for t in triangles:\n",
    "        axs[row_index, column_index].fill(t[:, 0],t[:, 1],fill=False)"
   ]
  },
  {
   "cell_type": "markdown",
   "id": "c368030f-c24c-4d34-a17f-79ec1da7de95",
   "metadata": {},
   "source": [
    "## Issues with Ransac\n",
    "\n",
    "Ransac finds infinite lines. If two segments are on the same line they are considered the same as we can see with the maze example\n",
    "\n",
    "Ransac is also non deterministic due to the random sample selection. Run the examples several times to see the changes"
   ]
  }
 ],
 "metadata": {
  "kernelspec": {
   "display_name": "lidar_sim",
   "language": "python",
   "name": "lidar_sim"
  },
  "language_info": {
   "codemirror_mode": {
    "name": "ipython",
    "version": 3
   },
   "file_extension": ".py",
   "mimetype": "text/x-python",
   "name": "python",
   "nbconvert_exporter": "python",
   "pygments_lexer": "ipython3",
   "version": "3.11.4"
  }
 },
 "nbformat": 4,
 "nbformat_minor": 5
}
